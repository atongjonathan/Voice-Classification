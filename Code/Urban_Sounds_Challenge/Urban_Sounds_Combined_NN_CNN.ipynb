{
 "cells": [
  {
   "cell_type": "markdown",
   "metadata": {},
   "source": [
    "### We will combine the results of our Dense Neural Network and our Convolutional Neural Network"
   ]
  },
  {
   "cell_type": "code",
   "execution_count": 2,
   "metadata": {},
   "outputs": [],
   "source": [
    "# Read in the results from our CNN\n",
    "preds_cnn = pd.read_csv('predict_cnn.csv')"
   ]
  },
  {
   "cell_type": "code",
   "execution_count": 3,
   "metadata": {},
   "outputs": [],
   "source": [
    "# Read in the results from our Dense NN\n",
    "preds_nn = pd.read_csv('predict_nn.csv')"
   ]
  },
  {
   "cell_type": "code",
   "execution_count": 7,
   "metadata": {},
   "outputs": [],
   "source": [
    "# Convering the results to arrays \n",
    "preds_cnn_array = preds_cnn.to_numpy()\n",
    "preds_nn_array = preds_nn.to_numpy()"
   ]
  },
  {
   "cell_type": "code",
   "execution_count": 9,
   "metadata": {},
   "outputs": [],
   "source": [
    "# Adding the porcentages of predictions together\n",
    "preds = (preds_cnn_array + preds_nn_array)"
   ]
  },
  {
   "cell_type": "code",
   "execution_count": 11,
   "metadata": {},
   "outputs": [],
   "source": [
    "# Reading the original data to create our testing dataframe\n",
    "data = pd.read_csv('data.csv')"
   ]
  },
  {
   "cell_type": "code",
   "execution_count": 12,
   "metadata": {},
   "outputs": [
    {
     "name": "stderr",
     "output_type": "stream",
     "text": [
      "/Users/jurgenarias/anaconda3/envs/dsi/lib/python3.7/site-packages/ipykernel_launcher.py:17: SettingWithCopyWarning: \n",
      "A value is trying to be set on a copy of a slice from a DataFrame.\n",
      "Try using .loc[row_indexer,col_indexer] = value instead\n",
      "\n",
      "See the caveats in the documentation: http://pandas.pydata.org/pandas-docs/stable/user_guide/indexing.html#returning-a-view-versus-a-copy\n",
      "/Users/jurgenarias/anaconda3/envs/dsi/lib/python3.7/site-packages/ipykernel_launcher.py:23: SettingWithCopyWarning: \n",
      "A value is trying to be set on a copy of a slice from a DataFrame.\n",
      "Try using .loc[row_indexer,col_indexer] = value instead\n",
      "\n",
      "See the caveats in the documentation: http://pandas.pydata.org/pandas-docs/stable/user_guide/indexing.html#returning-a-view-versus-a-copy\n"
     ]
    },
    {
     "data": {
      "text/plain": [
       "0.95"
      ]
     },
     "execution_count": 12,
     "metadata": {},
     "output_type": "execute_result"
    }
   ],
   "source": [
    "# Generating a new test dataframe that includes the labels for comparison and \n",
    "# checking the accuracy of our model with this never before seen data\n",
    "test = data[4435:]\n",
    "\n",
    "# Creating an empty list to store the values where the predictions are the maximum out \n",
    "# of all the 10 possible values\n",
    "p = []\n",
    "for i in range(0, len(preds)):\n",
    "    p.append(np.where(preds[i] == max(preds[i])))\n",
    "\n",
    "# Creating an empty list to store the values in a clean list\n",
    "predictions = []\n",
    "for i in range(0, len(preds)):\n",
    "    predictions.append(p[i][0][0])\n",
    "    \n",
    "# Adding those predictions to our test dataframe\n",
    "test['predictions'] = predictions\n",
    "\n",
    "# Changing the numeric values to their corresponding labels\n",
    "test['predictions'] = test['predictions'].map({8:'siren', 9:'street_music', 7:'jackhammer',\n",
    "                   4:'drilling', 3:'dog_bark', 2:'children_playing',\n",
    "                   6:'gun_shot', 5:'engine_idling', 0:'air_conditioner',\n",
    "                   1:'car_horn'})\n",
    "\n",
    "# Checking the percentage of correct predictions \n",
    "round(len(test[test['Class'] == test['predictions']])/len(test),2)"
   ]
  },
  {
   "cell_type": "markdown",
   "metadata": {},
   "source": [
    "### We get 95% accuracy by combining both the NN and the CNN models!"
   ]
  }
 ],
 "metadata": {
  "kernelspec": {
   "display_name": "Python [conda env:dsi] *",
   "language": "python",
   "name": "conda-env-dsi-py"
  },
  "language_info": {
   "codemirror_mode": {
    "name": "ipython",
    "version": 3
   },
   "file_extension": ".py",
   "mimetype": "text/x-python",
   "name": "python",
   "nbconvert_exporter": "python",
   "pygments_lexer": "ipython3",
   "version": "3.7.5"
  }
 },
 "nbformat": 4,
 "nbformat_minor": 2
}
