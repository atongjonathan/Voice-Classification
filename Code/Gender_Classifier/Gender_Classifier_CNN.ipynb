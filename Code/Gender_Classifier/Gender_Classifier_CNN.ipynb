{
 "cells": [
  {
   "cell_type": "code",
   "execution_count": 1,
   "metadata": {},
   "outputs": [],
   "source": [
    "%matplotlib inline\n",
    "# from memory_profiler import memory_usage\n",
    "import os\n",
    "import pandas as pd\n",
    "from glob import glob\n",
    "import numpy as np"
   ]
  },
  {
   "cell_type": "code",
   "execution_count": 2,
   "metadata": {},
   "outputs": [
    {
     "name": "stderr",
     "output_type": "stream",
     "text": [
      "Using TensorFlow backend.\n"
     ]
    }
   ],
   "source": [
    "from keras import layers\n",
    "from keras import models\n",
    "from keras.layers.advanced_activations import LeakyReLU\n",
    "from keras.optimizers import Adam\n",
    "import keras.backend as K\n",
    "import librosa\n",
    "import librosa.display\n",
    "import pylab\n",
    "import matplotlib.pyplot as plt\n",
    "from matplotlib import figure\n",
    "import gc\n",
    "# from path import Path"
   ]
  },
  {
   "cell_type": "code",
   "execution_count": 3,
   "metadata": {},
   "outputs": [],
   "source": [
    "import IPython.display as ipd\n",
    "# % pylab inline\n",
    "import os\n",
    "import pandas as pd\n",
    "import librosa\n",
    "import glob \n",
    "import librosa.display\n",
    "import random\n",
    "\n",
    "from sklearn.preprocessing import StandardScaler\n",
    "from sklearn.model_selection import train_test_split\n",
    "\n",
    "from keras.utils.np_utils import to_categorical\n",
    "\n",
    "import numpy as np\n",
    "from keras.models import Sequential\n",
    "from keras.layers import Dense, Dropout, Activation, Flatten\n",
    "from keras.layers import Convolution2D, MaxPooling2D\n",
    "from keras.optimizers import Adam\n",
    "from keras.utils import np_utils\n",
    "from sklearn import metrics \n",
    "\n",
    "from sklearn.datasets import make_regression\n",
    "from sklearn.preprocessing import StandardScaler\n",
    "from sklearn import metrics\n",
    "from sklearn.model_selection import train_test_split, GridSearchCV\n",
    "\n",
    "from tensorflow.keras.models import Sequential\n",
    "from tensorflow.keras.layers import Dense, Dropout \n",
    "from tensorflow.keras.wrappers.scikit_learn import KerasRegressor\n",
    "from keras.models import load_model\n",
    "from keras.models import Sequential\n",
    "from keras.layers import Dense, Dropout, Activation, Flatten\n",
    "from keras.layers import Conv1D, GlobalAveragePooling1D, MaxPooling1D\n",
    "from keras_preprocessing.image import ImageDataGenerator\n",
    "from keras.layers import Dense, Activation, Flatten, Dropout, BatchNormalization\n",
    "from keras.models import Sequential, Model\n",
    "from keras.layers import Conv2D, MaxPooling2D\n",
    "from keras import regularizers, optimizers\n",
    "\n",
    "from keras.callbacks import EarlyStopping\n",
    "\n",
    "from keras import regularizers\n",
    "\n",
    "from sklearn.preprocessing import LabelEncoder\n",
    "\n",
    "import os\n",
    "from glob import glob"
   ]
  },
  {
   "cell_type": "markdown",
   "metadata": {},
   "source": [
    "#### First step is to create a picture from the audio file"
   ]
  },
  {
   "cell_type": "code",
   "execution_count": 13,
   "metadata": {},
   "outputs": [],
   "source": [
    "#list the files\n",
    "filelist = os.listdir('male') \n",
    "#read them into pandas\n",
    "df_male = pd.DataFrame(filelist)"
   ]
  },
  {
   "cell_type": "code",
   "execution_count": 14,
   "metadata": {},
   "outputs": [],
   "source": [
    "# Adding the 1 label to the dataframe representing male\n",
    "df_male['label']='1'"
   ]
  },
  {
   "cell_type": "code",
   "execution_count": 15,
   "metadata": {},
   "outputs": [],
   "source": [
    "# Renaming the column name to file\n",
    "df_male = df_male.rename(columns={0:'file'})"
   ]
  },
  {
   "cell_type": "code",
   "execution_count": 16,
   "metadata": {},
   "outputs": [
    {
     "data": {
      "text/html": [
       "<div>\n",
       "<style scoped>\n",
       "    .dataframe tbody tr th:only-of-type {\n",
       "        vertical-align: middle;\n",
       "    }\n",
       "\n",
       "    .dataframe tbody tr th {\n",
       "        vertical-align: top;\n",
       "    }\n",
       "\n",
       "    .dataframe thead th {\n",
       "        text-align: right;\n",
       "    }\n",
       "</style>\n",
       "<table border=\"1\" class=\"dataframe\">\n",
       "  <thead>\n",
       "    <tr style=\"text-align: right;\">\n",
       "      <th></th>\n",
       "      <th>file</th>\n",
       "      <th>label</th>\n",
       "    </tr>\n",
       "  </thead>\n",
       "  <tbody>\n",
       "    <tr>\n",
       "      <th>0</th>\n",
       "      <td>2893-139322-0000.flac</td>\n",
       "      <td>1</td>\n",
       "    </tr>\n",
       "    <tr>\n",
       "      <th>1</th>\n",
       "      <td>1034-121119-0071.flac</td>\n",
       "      <td>1</td>\n",
       "    </tr>\n",
       "    <tr>\n",
       "      <th>2</th>\n",
       "      <td>78-369-0018.flac</td>\n",
       "      <td>1</td>\n",
       "    </tr>\n",
       "    <tr>\n",
       "      <th>3</th>\n",
       "      <td>322-124147-0038.flac</td>\n",
       "      <td>1</td>\n",
       "    </tr>\n",
       "    <tr>\n",
       "      <th>4</th>\n",
       "      <td>831-130739-0049.flac</td>\n",
       "      <td>1</td>\n",
       "    </tr>\n",
       "  </tbody>\n",
       "</table>\n",
       "</div>"
      ],
      "text/plain": [
       "                    file label\n",
       "0  2893-139322-0000.flac     1\n",
       "1  1034-121119-0071.flac     1\n",
       "2       78-369-0018.flac     1\n",
       "3   322-124147-0038.flac     1\n",
       "4   831-130739-0049.flac     1"
      ]
     },
     "execution_count": 16,
     "metadata": {},
     "output_type": "execute_result"
    }
   ],
   "source": [
    "df_male.head()"
   ]
  },
  {
   "cell_type": "code",
   "execution_count": 17,
   "metadata": {},
   "outputs": [
    {
     "data": {
      "text/html": [
       "<div>\n",
       "<style scoped>\n",
       "    .dataframe tbody tr th:only-of-type {\n",
       "        vertical-align: middle;\n",
       "    }\n",
       "\n",
       "    .dataframe tbody tr th {\n",
       "        vertical-align: top;\n",
       "    }\n",
       "\n",
       "    .dataframe thead th {\n",
       "        text-align: right;\n",
       "    }\n",
       "</style>\n",
       "<table border=\"1\" class=\"dataframe\">\n",
       "  <thead>\n",
       "    <tr style=\"text-align: right;\">\n",
       "      <th></th>\n",
       "      <th>file</th>\n",
       "      <th>label</th>\n",
       "    </tr>\n",
       "  </thead>\n",
       "  <tbody>\n",
       "  </tbody>\n",
       "</table>\n",
       "</div>"
      ],
      "text/plain": [
       "Empty DataFrame\n",
       "Columns: [file, label]\n",
       "Index: []"
      ]
     },
     "execution_count": 17,
     "metadata": {},
     "output_type": "execute_result"
    }
   ],
   "source": [
    "# Checking for a file that gets automatically generated and we need to drop \n",
    "df_male[df_male['file']=='.DS_Store']"
   ]
  },
  {
   "cell_type": "code",
   "execution_count": 18,
   "metadata": {},
   "outputs": [],
   "source": [
    "filelist = os.listdir('female') \n",
    "#read them into pandas\n",
    "df_female = pd.DataFrame(filelist)"
   ]
  },
  {
   "cell_type": "code",
   "execution_count": 19,
   "metadata": {},
   "outputs": [],
   "source": [
    "df_female['label']='0'"
   ]
  },
  {
   "cell_type": "code",
   "execution_count": 20,
   "metadata": {},
   "outputs": [],
   "source": [
    "df_female = df_female.rename(columns={0:'file'})"
   ]
  },
  {
   "cell_type": "code",
   "execution_count": 21,
   "metadata": {},
   "outputs": [
    {
     "data": {
      "text/html": [
       "<div>\n",
       "<style scoped>\n",
       "    .dataframe tbody tr th:only-of-type {\n",
       "        vertical-align: middle;\n",
       "    }\n",
       "\n",
       "    .dataframe tbody tr th {\n",
       "        vertical-align: top;\n",
       "    }\n",
       "\n",
       "    .dataframe thead th {\n",
       "        text-align: right;\n",
       "    }\n",
       "</style>\n",
       "<table border=\"1\" class=\"dataframe\">\n",
       "  <thead>\n",
       "    <tr style=\"text-align: right;\">\n",
       "      <th></th>\n",
       "      <th>file</th>\n",
       "      <th>label</th>\n",
       "    </tr>\n",
       "  </thead>\n",
       "  <tbody>\n",
       "    <tr>\n",
       "      <th>0</th>\n",
       "      <td>441-128982-0010.flac</td>\n",
       "      <td>0</td>\n",
       "    </tr>\n",
       "    <tr>\n",
       "      <th>1</th>\n",
       "      <td>1502-122619-0039.flac</td>\n",
       "      <td>0</td>\n",
       "    </tr>\n",
       "    <tr>\n",
       "      <th>2</th>\n",
       "      <td>302-123504-0010.flac</td>\n",
       "      <td>0</td>\n",
       "    </tr>\n",
       "    <tr>\n",
       "      <th>3</th>\n",
       "      <td>1553-140048-0029.flac</td>\n",
       "      <td>0</td>\n",
       "    </tr>\n",
       "    <tr>\n",
       "      <th>4</th>\n",
       "      <td>32-21625-0013.flac</td>\n",
       "      <td>0</td>\n",
       "    </tr>\n",
       "  </tbody>\n",
       "</table>\n",
       "</div>"
      ],
      "text/plain": [
       "                    file label\n",
       "0   441-128982-0010.flac     0\n",
       "1  1502-122619-0039.flac     0\n",
       "2   302-123504-0010.flac     0\n",
       "3  1553-140048-0029.flac     0\n",
       "4     32-21625-0013.flac     0"
      ]
     },
     "execution_count": 21,
     "metadata": {},
     "output_type": "execute_result"
    }
   ],
   "source": [
    "df_female.head()"
   ]
  },
  {
   "cell_type": "code",
   "execution_count": 22,
   "metadata": {},
   "outputs": [
    {
     "data": {
      "text/html": [
       "<div>\n",
       "<style scoped>\n",
       "    .dataframe tbody tr th:only-of-type {\n",
       "        vertical-align: middle;\n",
       "    }\n",
       "\n",
       "    .dataframe tbody tr th {\n",
       "        vertical-align: top;\n",
       "    }\n",
       "\n",
       "    .dataframe thead th {\n",
       "        text-align: right;\n",
       "    }\n",
       "</style>\n",
       "<table border=\"1\" class=\"dataframe\">\n",
       "  <thead>\n",
       "    <tr style=\"text-align: right;\">\n",
       "      <th></th>\n",
       "      <th>file</th>\n",
       "      <th>label</th>\n",
       "    </tr>\n",
       "  </thead>\n",
       "  <tbody>\n",
       "    <tr>\n",
       "      <th>981</th>\n",
       "      <td>.DS_Store</td>\n",
       "      <td>0</td>\n",
       "    </tr>\n",
       "  </tbody>\n",
       "</table>\n",
       "</div>"
      ],
      "text/plain": [
       "          file label\n",
       "981  .DS_Store     0"
      ]
     },
     "execution_count": 22,
     "metadata": {},
     "output_type": "execute_result"
    }
   ],
   "source": [
    "# Checking for a file that gets automatically generated and we need to drop \n",
    "df_female[df_female['file']=='.DS_Store']"
   ]
  },
  {
   "cell_type": "code",
   "execution_count": 23,
   "metadata": {},
   "outputs": [],
   "source": [
    "# Dropping the system file\n",
    "df_female.drop(981, inplace=True)"
   ]
  },
  {
   "cell_type": "code",
   "execution_count": 24,
   "metadata": {},
   "outputs": [],
   "source": [
    "# Resetting the index since we dropped a row\n",
    "df_female = df_female.reset_index(drop=True)"
   ]
  },
  {
   "cell_type": "code",
   "execution_count": null,
   "metadata": {},
   "outputs": [],
   "source": []
  },
  {
   "cell_type": "code",
   "execution_count": 25,
   "metadata": {},
   "outputs": [],
   "source": [
    "df = pd.concat([df_female, df_male], ignore_index=True)"
   ]
  },
  {
   "cell_type": "code",
   "execution_count": 26,
   "metadata": {},
   "outputs": [
    {
     "data": {
      "text/html": [
       "<div>\n",
       "<style scoped>\n",
       "    .dataframe tbody tr th:only-of-type {\n",
       "        vertical-align: middle;\n",
       "    }\n",
       "\n",
       "    .dataframe tbody tr th {\n",
       "        vertical-align: top;\n",
       "    }\n",
       "\n",
       "    .dataframe thead th {\n",
       "        text-align: right;\n",
       "    }\n",
       "</style>\n",
       "<table border=\"1\" class=\"dataframe\">\n",
       "  <thead>\n",
       "    <tr style=\"text-align: right;\">\n",
       "      <th></th>\n",
       "      <th>file</th>\n",
       "      <th>label</th>\n",
       "    </tr>\n",
       "  </thead>\n",
       "  <tbody>\n",
       "    <tr>\n",
       "      <th>0</th>\n",
       "      <td>441-128982-0010.flac</td>\n",
       "      <td>0</td>\n",
       "    </tr>\n",
       "    <tr>\n",
       "      <th>1</th>\n",
       "      <td>1502-122619-0039.flac</td>\n",
       "      <td>0</td>\n",
       "    </tr>\n",
       "    <tr>\n",
       "      <th>2</th>\n",
       "      <td>302-123504-0010.flac</td>\n",
       "      <td>0</td>\n",
       "    </tr>\n",
       "    <tr>\n",
       "      <th>3</th>\n",
       "      <td>1553-140048-0029.flac</td>\n",
       "      <td>0</td>\n",
       "    </tr>\n",
       "    <tr>\n",
       "      <th>4</th>\n",
       "      <td>32-21625-0013.flac</td>\n",
       "      <td>0</td>\n",
       "    </tr>\n",
       "  </tbody>\n",
       "</table>\n",
       "</div>"
      ],
      "text/plain": [
       "                    file label\n",
       "0   441-128982-0010.flac     0\n",
       "1  1502-122619-0039.flac     0\n",
       "2   302-123504-0010.flac     0\n",
       "3  1553-140048-0029.flac     0\n",
       "4     32-21625-0013.flac     0"
      ]
     },
     "execution_count": 26,
     "metadata": {},
     "output_type": "execute_result"
    }
   ],
   "source": [
    "df.head()"
   ]
  },
  {
   "cell_type": "code",
   "execution_count": 27,
   "metadata": {},
   "outputs": [],
   "source": [
    "# Randomizing our files to be able to split into train, validation and test\n",
    "df = df.sample(frac=1, random_state=42).reset_index(drop=True)"
   ]
  },
  {
   "cell_type": "code",
   "execution_count": 28,
   "metadata": {},
   "outputs": [],
   "source": [
    "df_train = df[:9188]"
   ]
  },
  {
   "cell_type": "code",
   "execution_count": 29,
   "metadata": {},
   "outputs": [
    {
     "data": {
      "text/plain": [
       "0    0.506748\n",
       "1    0.493252\n",
       "Name: label, dtype: float64"
      ]
     },
     "execution_count": 29,
     "metadata": {},
     "output_type": "execute_result"
    }
   ],
   "source": [
    "df_train['label'].value_counts(normalize=True)"
   ]
  },
  {
   "cell_type": "code",
   "execution_count": 30,
   "metadata": {},
   "outputs": [],
   "source": [
    "df_validation = df[9188:11813]"
   ]
  },
  {
   "cell_type": "code",
   "execution_count": 31,
   "metadata": {},
   "outputs": [
    {
     "data": {
      "text/plain": [
       "1    0.519619\n",
       "0    0.480381\n",
       "Name: label, dtype: float64"
      ]
     },
     "execution_count": 31,
     "metadata": {},
     "output_type": "execute_result"
    }
   ],
   "source": [
    "df_validation['label'].value_counts(normalize=True)"
   ]
  },
  {
   "cell_type": "code",
   "execution_count": 32,
   "metadata": {},
   "outputs": [],
   "source": [
    "df_test = df[11813:13125]"
   ]
  },
  {
   "cell_type": "code",
   "execution_count": 33,
   "metadata": {},
   "outputs": [
    {
     "data": {
      "text/plain": [
       "1    0.502287\n",
       "0    0.497713\n",
       "Name: label, dtype: float64"
      ]
     },
     "execution_count": 33,
     "metadata": {},
     "output_type": "execute_result"
    }
   ],
   "source": [
    "df_test['label'].value_counts(normalize=True)"
   ]
  },
  {
   "cell_type": "code",
   "execution_count": null,
   "metadata": {},
   "outputs": [],
   "source": []
  },
  {
   "cell_type": "markdown",
   "metadata": {},
   "source": [
    "#### Visualizing the melspectrogram (We will explain soon how to create this images)"
   ]
  },
  {
   "cell_type": "code",
   "execution_count": 6,
   "metadata": {},
   "outputs": [],
   "source": [
    "# Randomly choosing one of the audio files\n",
    "filename = 'female/441-128982-0010.flac'"
   ]
  },
  {
   "cell_type": "code",
   "execution_count": 7,
   "metadata": {},
   "outputs": [
    {
     "data": {
      "image/png": "[encoded data removed]",
      "text/plain": [
       "<Figure size 432x288 with 1 Axes>"
      ]
     },
     "metadata": {
      "needs_background": "light"
     },
     "output_type": "display_data"
    }
   ],
   "source": [
    "# Checking how the image looks like with the frequency restriction\n",
    "X, sample_rate = librosa.load(filename, sr=None, res_type='kaiser_fast')\n",
    "S = librosa.feature.melspectrogram(y=X, sr=sample_rate)\n",
    "librosa.display.specshow(librosa.power_to_db(S, ref=np.max), x_axis='time', y_axis='mel', fmin=50, fmax=280)\n",
    "plt.show()"
   ]
  },
  {
   "cell_type": "markdown",
   "metadata": {},
   "source": [
    "Using a function to generate and save the melspectrogram for each audio file"
   ]
  },
  {
   "cell_type": "code",
   "execution_count": 359,
   "metadata": {},
   "outputs": [],
   "source": [
    "# Although this function was modified and many parameteres were explored with, most of it\n",
    "# came from Source 18 (sources in the READ.ME)\n",
    "\n",
    "def images(files):\n",
    "    \n",
    "    # We define the audiofile from the rows of the dataframe when we iterate through\n",
    "    # every row of our dataframe for train, val and test\n",
    "    audiofile = os.path.join(os.path.abspath('new_test_male_female')+'/'+str(files.file))\n",
    "    \n",
    "    # Loading the image with no sample rate to use the original sample rate and\n",
    "    # kaiser_fast to make the speed faster according to a blog post about it (on references)\n",
    "    X, sample_rate = librosa.load(audiofile, sr=None, res_type='kaiser_fast')\n",
    "   \n",
    "    # Setting the size of the image\n",
    "    fig = plt.figure(figsize=[1,1])\n",
    "    \n",
    "    # This is to get rid of the axes and only get the picture \n",
    "    ax = fig.add_subplot(111)\n",
    "    ax.axes.get_xaxis().set_visible(False)\n",
    "    ax.axes.get_yaxis().set_visible(False)\n",
    "    ax.set_frame_on(False)\n",
    "    \n",
    "    # This is the melspectrogram from the decibels with a linear relationship\n",
    "    # Setting min and max frequency to account for human voice frequency\n",
    "    S = librosa.feature.melspectrogram(y=X, sr=sample_rate)\n",
    "    librosa.display.specshow(librosa.power_to_db(S, ref=np.max), x_axis='time', y_axis='mel', fmin=50, fmax=280)\n",
    "    \n",
    "    # Here we choose the path and the name to save the file, we will change the path when\n",
    "    # using the function for train, val and test to make the function easy to use and output\n",
    "    # the images in different folders to use later with a generator\n",
    "    name = files.file\n",
    "    file  = 'voice_images_test_new/' + str(name) + '.jpg'\n",
    "    \n",
    "    # Here we finally save the image file choosing the resolution \n",
    "    plt.savefig(file, dpi=500, bbox_inches='tight',pad_inches=0)\n",
    "    \n",
    "    # Here we close the image because otherwise we get a warning saying that the image stays\n",
    "    # open and consumes memory\n",
    "    plt.close()"
   ]
  },
  {
   "cell_type": "markdown",
   "metadata": {},
   "source": [
    "Now we load the dataframe and slice the data into train, validation and testing data like before. Again, 3435 for training, 1000 for validation and 1000 for testing."
   ]
  },
  {
   "cell_type": "code",
   "execution_count": 79,
   "metadata": {},
   "outputs": [],
   "source": [
    "train = df[:10_000]\n",
    "val = df[10_000:12_000]\n",
    "test = df[12_000:13_000]"
   ]
  },
  {
   "cell_type": "markdown",
   "metadata": {},
   "source": [
    "We use the function to create all the images from train, val and test"
   ]
  },
  {
   "cell_type": "code",
   "execution_count": 58,
   "metadata": {},
   "outputs": [],
   "source": [
    "train.apply(images, axis=1);"
   ]
  },
  {
   "cell_type": "code",
   "execution_count": 56,
   "metadata": {},
   "outputs": [],
   "source": [
    "test.apply(images, axis=1);"
   ]
  },
  {
   "cell_type": "code",
   "execution_count": 53,
   "metadata": {},
   "outputs": [],
   "source": [
    "val.apply(images, axis=1);"
   ]
  },
  {
   "cell_type": "code",
   "execution_count": 59,
   "metadata": {},
   "outputs": [],
   "source": [
    "plt.close('all')"
   ]
  },
  {
   "cell_type": "code",
   "execution_count": 1265,
   "metadata": {},
   "outputs": [],
   "source": [
    "# Code to let us know when the code finishes running\n",
    "os.system('say -v Juan ya acabé');"
   ]
  },
  {
   "cell_type": "markdown",
   "metadata": {},
   "source": [
    "We will use the datagen.flow_from_dataframe from the keras documentation to use with the CNN\n",
    "https://keras.io/preprocessing/image/"
   ]
  },
  {
   "cell_type": "markdown",
   "metadata": {
    "scrolled": false
   },
   "source": [
    "![keras](img/keras.jpg)"
   ]
  },
  {
   "cell_type": "code",
   "execution_count": 107,
   "metadata": {},
   "outputs": [],
   "source": [
    "# Function to change the file names to the image names to use them later \n",
    "def make_jpg(files):\n",
    "    return str(files.split('.')[0])+'.flac.jpg'"
   ]
  },
  {
   "cell_type": "code",
   "execution_count": 108,
   "metadata": {
    "scrolled": false
   },
   "outputs": [
    {
     "name": "stderr",
     "output_type": "stream",
     "text": [
      "/Users/jurgenarias/anaconda3/envs/dsi/lib/python3.7/site-packages/ipykernel_launcher.py:1: SettingWithCopyWarning: \n",
      "A value is trying to be set on a copy of a slice from a DataFrame.\n",
      "Try using .loc[row_indexer,col_indexer] = value instead\n",
      "\n",
      "See the caveats in the documentation: http://pandas.pydata.org/pandas-docs/stable/user_guide/indexing.html#returning-a-view-versus-a-copy\n",
      "  \"\"\"Entry point for launching an IPython kernel.\n"
     ]
    }
   ],
   "source": [
    "train['file'] = train['file'].apply(make_jpg)"
   ]
  },
  {
   "cell_type": "code",
   "execution_count": 109,
   "metadata": {},
   "outputs": [
    {
     "name": "stderr",
     "output_type": "stream",
     "text": [
      "/Users/jurgenarias/anaconda3/envs/dsi/lib/python3.7/site-packages/ipykernel_launcher.py:1: SettingWithCopyWarning: \n",
      "A value is trying to be set on a copy of a slice from a DataFrame.\n",
      "Try using .loc[row_indexer,col_indexer] = value instead\n",
      "\n",
      "See the caveats in the documentation: http://pandas.pydata.org/pandas-docs/stable/user_guide/indexing.html#returning-a-view-versus-a-copy\n",
      "  \"\"\"Entry point for launching an IPython kernel.\n"
     ]
    }
   ],
   "source": [
    "val['file'] = val[\"file\"].apply(make_jpg)"
   ]
  },
  {
   "cell_type": "code",
   "execution_count": 110,
   "metadata": {},
   "outputs": [
    {
     "name": "stderr",
     "output_type": "stream",
     "text": [
      "/Users/jurgenarias/anaconda3/envs/dsi/lib/python3.7/site-packages/ipykernel_launcher.py:1: SettingWithCopyWarning: \n",
      "A value is trying to be set on a copy of a slice from a DataFrame.\n",
      "Try using .loc[row_indexer,col_indexer] = value instead\n",
      "\n",
      "See the caveats in the documentation: http://pandas.pydata.org/pandas-docs/stable/user_guide/indexing.html#returning-a-view-versus-a-copy\n",
      "  \"\"\"Entry point for launching an IPython kernel.\n"
     ]
    }
   ],
   "source": [
    "test['file'] = test[\"file\"].apply(make_jpg)"
   ]
  },
  {
   "cell_type": "code",
   "execution_count": 91,
   "metadata": {},
   "outputs": [],
   "source": [
    "# Rescaling the images as usual to feed into the CNN\n",
    "datagen=ImageDataGenerator(rescale=1./255.)"
   ]
  },
  {
   "cell_type": "code",
   "execution_count": 113,
   "metadata": {},
   "outputs": [
    {
     "name": "stdout",
     "output_type": "stream",
     "text": [
      "Found 10000 validated image filenames belonging to 2 classes.\n"
     ]
    }
   ],
   "source": [
    "train_generator=datagen.flow_from_dataframe(\n",
    "    dataframe=train,\n",
    "    directory=\"voice_images_train\",\n",
    "    x_col=\"file\",\n",
    "    y_col=\"label\",\n",
    "    batch_size=32,\n",
    "    shuffle=False,\n",
    "    class_mode=\"categorical\",\n",
    "    target_size=(64,64))"
   ]
  },
  {
   "cell_type": "code",
   "execution_count": 114,
   "metadata": {},
   "outputs": [
    {
     "name": "stdout",
     "output_type": "stream",
     "text": [
      "Found 2000 validated image filenames belonging to 2 classes.\n"
     ]
    }
   ],
   "source": [
    "val_generator=datagen.flow_from_dataframe(\n",
    "    dataframe=val,\n",
    "    directory=\"voice_images_val\",\n",
    "    x_col=\"file\",\n",
    "    y_col=\"label\",\n",
    "    batch_size=32,\n",
    "    shuffle=False,\n",
    "    class_mode=\"categorical\",\n",
    "    target_size=(64,64))"
   ]
  },
  {
   "cell_type": "code",
   "execution_count": 287,
   "metadata": {},
   "outputs": [
    {
     "name": "stdout",
     "output_type": "stream",
     "text": [
      "Found 1000 validated image filenames belonging to 2 classes.\n"
     ]
    }
   ],
   "source": [
    "test_generator=datagen.flow_from_dataframe(\n",
    "    dataframe=test,\n",
    "    directory=\"voice_images_test\",\n",
    "    x_col=\"file\",\n",
    "    y_col=\"label\",\n",
    "    batch_size=32,\n",
    "    shuffle=False,\n",
    "    class_mode=\"categorical\",\n",
    "    target_size=(64,64))"
   ]
  },
  {
   "cell_type": "code",
   "execution_count": 117,
   "metadata": {},
   "outputs": [],
   "source": [
    "plt.close('all')"
   ]
  },
  {
   "cell_type": "code",
   "execution_count": 1509,
   "metadata": {},
   "outputs": [],
   "source": [
    "# import os\n",
    "os.system('say -v Juan ya acabé');"
   ]
  },
  {
   "cell_type": "markdown",
   "metadata": {},
   "source": [
    "### Now we finally can build the CNN model and fit it"
   ]
  },
  {
   "cell_type": "code",
   "execution_count": 8,
   "metadata": {},
   "outputs": [],
   "source": [
    "# Building our model \n",
    "model = Sequential()\n",
    "\n",
    "model.add(Conv2D(filters=32, kernel_size=(3, 3), activation='relu', input_shape=(64,64,3)))\n",
    "model.add(MaxPooling2D(pool_size=(2, 2)))\n",
    "\n",
    "model.add(Conv2D(filters=64, kernel_size=(3, 3), activation='relu'))\n",
    "model.add(MaxPooling2D(pool_size=(2, 2)))\n",
    "model.add(Dropout(0.5))\n",
    "\n",
    "model.add(Conv2D(filters=128, kernel_size=(3, 3), activation='relu'))\n",
    "model.add(MaxPooling2D(pool_size=(2, 2)))\n",
    "model.add(Dropout(0.5))\n",
    "\n",
    "model.add(Conv2D(filters=128, kernel_size=(3, 3), activation='relu'))\n",
    "model.add(MaxPooling2D(pool_size=(2, 2)))\n",
    "model.add(Dropout(0.5))\n",
    "\n",
    "model.add(Flatten())\n",
    "model.add(Dense(512, activation='relu'))\n",
    "model.add(Dropout(0.5))\n",
    "\n",
    "model.add(Dense(128, activation='relu'))\n",
    "model.add(Dropout(0.5))\n",
    "\n",
    "model.add(Dense(2, activation='softmax'))"
   ]
  },
  {
   "cell_type": "code",
   "execution_count": 128,
   "metadata": {},
   "outputs": [],
   "source": [
    "# Compiling using adam and categorical crossentropy\n",
    "model.compile(loss='categorical_crossentropy',\n",
    "                  optimizer='adam',\n",
    "                  metrics=['accuracy'])"
   ]
  },
  {
   "cell_type": "code",
   "execution_count": 9,
   "metadata": {},
   "outputs": [
    {
     "name": "stdout",
     "output_type": "stream",
     "text": [
      "Model: \"sequential_1\"\n",
      "_________________________________________________________________\n",
      "Layer (type)                 Output Shape              Param #   \n",
      "=================================================================\n",
      "conv2d_1 (Conv2D)            (None, 62, 62, 32)        896       \n",
      "_________________________________________________________________\n",
      "max_pooling2d_1 (MaxPooling2 (None, 31, 31, 32)        0         \n",
      "_________________________________________________________________\n",
      "conv2d_2 (Conv2D)            (None, 29, 29, 64)        18496     \n",
      "_________________________________________________________________\n",
      "max_pooling2d_2 (MaxPooling2 (None, 14, 14, 64)        0         \n",
      "_________________________________________________________________\n",
      "dropout_1 (Dropout)          (None, 14, 14, 64)        0         \n",
      "_________________________________________________________________\n",
      "conv2d_3 (Conv2D)            (None, 12, 12, 128)       73856     \n",
      "_________________________________________________________________\n",
      "max_pooling2d_3 (MaxPooling2 (None, 6, 6, 128)         0         \n",
      "_________________________________________________________________\n",
      "dropout_2 (Dropout)          (None, 6, 6, 128)         0         \n",
      "_________________________________________________________________\n",
      "conv2d_4 (Conv2D)            (None, 4, 4, 128)         147584    \n",
      "_________________________________________________________________\n",
      "max_pooling2d_4 (MaxPooling2 (None, 2, 2, 128)         0         \n",
      "_________________________________________________________________\n",
      "dropout_3 (Dropout)          (None, 2, 2, 128)         0         \n",
      "_________________________________________________________________\n",
      "flatten_1 (Flatten)          (None, 512)               0         \n",
      "_________________________________________________________________\n",
      "dense_1 (Dense)              (None, 512)               262656    \n",
      "_________________________________________________________________\n",
      "dropout_4 (Dropout)          (None, 512)               0         \n",
      "_________________________________________________________________\n",
      "dense_2 (Dense)              (None, 128)               65664     \n",
      "_________________________________________________________________\n",
      "dropout_5 (Dropout)          (None, 128)               0         \n",
      "_________________________________________________________________\n",
      "dense_3 (Dense)              (None, 2)                 258       \n",
      "=================================================================\n",
      "Total params: 569,410\n",
      "Trainable params: 569,410\n",
      "Non-trainable params: 0\n",
      "_________________________________________________________________\n"
     ]
    }
   ],
   "source": [
    "model.summary()"
   ]
  },
  {
   "cell_type": "code",
   "execution_count": 129,
   "metadata": {},
   "outputs": [
    {
     "name": "stdout",
     "output_type": "stream",
     "text": [
      "Epoch 1/100\n",
      "313/313 [==============================] - 66s 209ms/step - loss: 0.6929 - accuracy: 0.5240 - val_loss: 0.7106 - val_accuracy: 0.5230\n",
      "Epoch 2/100\n",
      "313/313 [==============================] - 65s 207ms/step - loss: 0.6800 - accuracy: 0.5805 - val_loss: 0.7189 - val_accuracy: 0.5295\n",
      "Epoch 3/100\n",
      "313/313 [==============================] - 64s 206ms/step - loss: 0.6293 - accuracy: 0.6420 - val_loss: 0.6130 - val_accuracy: 0.7305\n",
      "Epoch 4/100\n",
      "313/313 [==============================] - 65s 209ms/step - loss: 0.3651 - accuracy: 0.8429 - val_loss: 0.2565 - val_accuracy: 0.9365\n",
      "Epoch 5/100\n",
      "313/313 [==============================] - 68s 218ms/step - loss: 0.1973 - accuracy: 0.9339 - val_loss: 0.2372 - val_accuracy: 0.9380\n",
      "Epoch 6/100\n",
      "313/313 [==============================] - 72s 232ms/step - loss: 0.1610 - accuracy: 0.9442 - val_loss: 0.0740 - val_accuracy: 0.9505\n",
      "Epoch 7/100\n",
      "313/313 [==============================] - 55s 175ms/step - loss: 0.1566 - accuracy: 0.9465 - val_loss: 0.0826 - val_accuracy: 0.9490\n",
      "Epoch 8/100\n",
      "313/313 [==============================] - 54s 174ms/step - loss: 0.1394 - accuracy: 0.9523 - val_loss: 0.0817 - val_accuracy: 0.9550\n",
      "Epoch 9/100\n",
      "313/313 [==============================] - 54s 172ms/step - loss: 0.1379 - accuracy: 0.9536 - val_loss: 0.1732 - val_accuracy: 0.9455\n",
      "Epoch 10/100\n",
      "313/313 [==============================] - 54s 173ms/step - loss: 0.1260 - accuracy: 0.9579 - val_loss: 0.1118 - val_accuracy: 0.9530\n",
      "Epoch 11/100\n",
      "313/313 [==============================] - 54s 174ms/step - loss: 0.1184 - accuracy: 0.9581 - val_loss: 0.2693 - val_accuracy: 0.9310\n",
      "Epoch 12/100\n",
      "313/313 [==============================] - 57s 183ms/step - loss: 0.1186 - accuracy: 0.9612 - val_loss: 0.1027 - val_accuracy: 0.9545\n",
      "Epoch 13/100\n",
      "313/313 [==============================] - 59s 190ms/step - loss: 0.1067 - accuracy: 0.9631 - val_loss: 0.0841 - val_accuracy: 0.9710\n",
      "Epoch 14/100\n",
      "313/313 [==============================] - 58s 185ms/step - loss: 0.1045 - accuracy: 0.9654 - val_loss: 0.0752 - val_accuracy: 0.9680\n",
      "Epoch 15/100\n",
      "313/313 [==============================] - 54s 173ms/step - loss: 0.1083 - accuracy: 0.9630 - val_loss: 0.0366 - val_accuracy: 0.9735\n",
      "Epoch 16/100\n",
      "313/313 [==============================] - 54s 173ms/step - loss: 0.0991 - accuracy: 0.9670 - val_loss: 0.0606 - val_accuracy: 0.9735\n",
      "Epoch 17/100\n",
      "313/313 [==============================] - 54s 173ms/step - loss: 0.1058 - accuracy: 0.9629 - val_loss: 0.1257 - val_accuracy: 0.9650\n",
      "Epoch 18/100\n",
      "313/313 [==============================] - 57s 181ms/step - loss: 0.1065 - accuracy: 0.9632 - val_loss: 0.0346 - val_accuracy: 0.9720\n",
      "Epoch 19/100\n",
      "313/313 [==============================] - 55s 175ms/step - loss: 0.0954 - accuracy: 0.9694 - val_loss: 0.1476 - val_accuracy: 0.9750\n",
      "Epoch 20/100\n",
      "313/313 [==============================] - 56s 179ms/step - loss: 0.0987 - accuracy: 0.9655 - val_loss: 0.0703 - val_accuracy: 0.9720\n",
      "Epoch 21/100\n",
      "313/313 [==============================] - 55s 176ms/step - loss: 0.0905 - accuracy: 0.9716 - val_loss: 0.0720 - val_accuracy: 0.9725\n",
      "Epoch 22/100\n",
      "313/313 [==============================] - 56s 178ms/step - loss: 0.0919 - accuracy: 0.9707 - val_loss: 0.0503 - val_accuracy: 0.9745\n",
      "Epoch 23/100\n",
      "313/313 [==============================] - 59s 190ms/step - loss: 0.0875 - accuracy: 0.9700 - val_loss: 0.0338 - val_accuracy: 0.9765\n",
      "Epoch 24/100\n",
      "313/313 [==============================] - 58s 187ms/step - loss: 0.0839 - accuracy: 0.9723 - val_loss: 0.0510 - val_accuracy: 0.9775\n",
      "Epoch 25/100\n",
      "313/313 [==============================] - 60s 191ms/step - loss: 0.0884 - accuracy: 0.9720 - val_loss: 0.0757 - val_accuracy: 0.9765\n",
      "Epoch 26/100\n",
      "313/313 [==============================] - 58s 184ms/step - loss: 0.0905 - accuracy: 0.9701 - val_loss: 0.2526 - val_accuracy: 0.9545\n",
      "Epoch 27/100\n",
      "313/313 [==============================] - 58s 186ms/step - loss: 0.0836 - accuracy: 0.9726 - val_loss: 0.0683 - val_accuracy: 0.9800\n",
      "Epoch 28/100\n",
      "313/313 [==============================] - 59s 187ms/step - loss: 0.0882 - accuracy: 0.9707 - val_loss: 0.1683 - val_accuracy: 0.9655\n",
      "Epoch 29/100\n",
      "313/313 [==============================] - 59s 188ms/step - loss: 0.0766 - accuracy: 0.9748 - val_loss: 0.0547 - val_accuracy: 0.9780\n",
      "Epoch 30/100\n",
      "313/313 [==============================] - 61s 196ms/step - loss: 0.0815 - accuracy: 0.9735 - val_loss: 0.1015 - val_accuracy: 0.9665\n",
      "Epoch 31/100\n",
      "313/313 [==============================] - 65s 207ms/step - loss: 0.0752 - accuracy: 0.9751 - val_loss: 0.0788 - val_accuracy: 0.9760\n",
      "Epoch 32/100\n",
      "313/313 [==============================] - 63s 200ms/step - loss: 0.0826 - accuracy: 0.9731 - val_loss: 0.0888 - val_accuracy: 0.9720\n",
      "Epoch 33/100\n",
      "313/313 [==============================] - 63s 201ms/step - loss: 0.0830 - accuracy: 0.9750 - val_loss: 0.0863 - val_accuracy: 0.9770\n",
      "Epoch 34/100\n",
      "313/313 [==============================] - 66s 211ms/step - loss: 0.0842 - accuracy: 0.9724 - val_loss: 0.1386 - val_accuracy: 0.9735\n",
      "Epoch 35/100\n",
      "313/313 [==============================] - 67s 214ms/step - loss: 0.0781 - accuracy: 0.9743 - val_loss: 0.0785 - val_accuracy: 0.9800\n",
      "Epoch 36/100\n",
      "313/313 [==============================] - 67s 215ms/step - loss: 0.0730 - accuracy: 0.9758 - val_loss: 0.0476 - val_accuracy: 0.9795\n",
      "Epoch 37/100\n",
      "313/313 [==============================] - 69s 221ms/step - loss: 0.0817 - accuracy: 0.9737 - val_loss: 0.0544 - val_accuracy: 0.9795\n",
      "Epoch 38/100\n",
      "313/313 [==============================] - 67s 214ms/step - loss: 0.0778 - accuracy: 0.9751 - val_loss: 0.0683 - val_accuracy: 0.9790\n",
      "Epoch 39/100\n",
      "313/313 [==============================] - 67s 214ms/step - loss: 0.0762 - accuracy: 0.9747 - val_loss: 0.0616 - val_accuracy: 0.9710\n",
      "Epoch 40/100\n",
      "313/313 [==============================] - 68s 216ms/step - loss: 0.0756 - accuracy: 0.9762 - val_loss: 0.0519 - val_accuracy: 0.9810\n",
      "Epoch 41/100\n",
      "313/313 [==============================] - 67s 214ms/step - loss: 0.0716 - accuracy: 0.9776 - val_loss: 0.0444 - val_accuracy: 0.9800\n",
      "Epoch 42/100\n",
      "313/313 [==============================] - 68s 219ms/step - loss: 0.0726 - accuracy: 0.9758 - val_loss: 0.0455 - val_accuracy: 0.9735\n",
      "Epoch 43/100\n",
      "313/313 [==============================] - 67s 214ms/step - loss: 0.0699 - accuracy: 0.9760 - val_loss: 0.0417 - val_accuracy: 0.9780\n",
      "Epoch 44/100\n",
      "313/313 [==============================] - 67s 215ms/step - loss: 0.0739 - accuracy: 0.9770 - val_loss: 0.0295 - val_accuracy: 0.9795\n",
      "Epoch 45/100\n",
      "313/313 [==============================] - 66s 212ms/step - loss: 0.0701 - accuracy: 0.9773 - val_loss: 0.0334 - val_accuracy: 0.9785\n",
      "Epoch 46/100\n",
      "313/313 [==============================] - 66s 212ms/step - loss: 0.0671 - accuracy: 0.9787 - val_loss: 0.0593 - val_accuracy: 0.9820\n",
      "Epoch 47/100\n",
      "313/313 [==============================] - 68s 216ms/step - loss: 0.0650 - accuracy: 0.9763 - val_loss: 0.1018 - val_accuracy: 0.9745\n",
      "Epoch 48/100\n",
      "313/313 [==============================] - 67s 212ms/step - loss: 0.0765 - accuracy: 0.9760 - val_loss: 0.0927 - val_accuracy: 0.9780\n",
      "Epoch 49/100\n",
      "313/313 [==============================] - 68s 218ms/step - loss: 0.0700 - accuracy: 0.9780 - val_loss: 0.0423 - val_accuracy: 0.9770\n",
      "Epoch 50/100\n",
      "313/313 [==============================] - 67s 213ms/step - loss: 0.0655 - accuracy: 0.9774 - val_loss: 0.0570 - val_accuracy: 0.9795\n",
      "Epoch 51/100\n",
      "313/313 [==============================] - 73s 234ms/step - loss: 0.0669 - accuracy: 0.9800 - val_loss: 0.0473 - val_accuracy: 0.9785\n",
      "Epoch 52/100\n",
      "313/313 [==============================] - 64s 206ms/step - loss: 0.0671 - accuracy: 0.9775 - val_loss: 0.0737 - val_accuracy: 0.9825\n",
      "Epoch 53/100\n",
      "313/313 [==============================] - 57s 181ms/step - loss: 0.0689 - accuracy: 0.9782 - val_loss: 0.2252 - val_accuracy: 0.9725\n",
      "Epoch 54/100\n",
      "313/313 [==============================] - 57s 182ms/step - loss: 0.0591 - accuracy: 0.9798 - val_loss: 0.0828 - val_accuracy: 0.9800\n",
      "Epoch 55/100\n",
      "313/313 [==============================] - 58s 184ms/step - loss: 0.0633 - accuracy: 0.9794 - val_loss: 0.0795 - val_accuracy: 0.9770\n",
      "Epoch 56/100\n",
      "313/313 [==============================] - 61s 195ms/step - loss: 0.0637 - accuracy: 0.9804 - val_loss: 0.0302 - val_accuracy: 0.9830\n"
     ]
    },
    {
     "name": "stdout",
     "output_type": "stream",
     "text": [
      "Epoch 57/100\n",
      "313/313 [==============================] - 64s 204ms/step - loss: 0.0720 - accuracy: 0.9782 - val_loss: 0.0178 - val_accuracy: 0.9835\n",
      "Epoch 58/100\n",
      "313/313 [==============================] - 60s 193ms/step - loss: 0.0656 - accuracy: 0.9788 - val_loss: 0.0381 - val_accuracy: 0.9815\n",
      "Epoch 59/100\n",
      "313/313 [==============================] - 62s 199ms/step - loss: 0.0635 - accuracy: 0.9804 - val_loss: 0.0330 - val_accuracy: 0.9835\n",
      "Epoch 60/100\n",
      "313/313 [==============================] - 61s 195ms/step - loss: 0.0667 - accuracy: 0.9802 - val_loss: 0.0780 - val_accuracy: 0.9795\n",
      "Epoch 61/100\n",
      "313/313 [==============================] - 65s 209ms/step - loss: 0.0614 - accuracy: 0.9781 - val_loss: 0.0792 - val_accuracy: 0.9810\n",
      "Epoch 62/100\n",
      "313/313 [==============================] - 64s 203ms/step - loss: 0.0606 - accuracy: 0.9803 - val_loss: 0.0462 - val_accuracy: 0.9800\n",
      "Epoch 63/100\n",
      "313/313 [==============================] - 64s 206ms/step - loss: 0.0626 - accuracy: 0.9779 - val_loss: 0.0216 - val_accuracy: 0.9810\n",
      "Epoch 64/100\n",
      "313/313 [==============================] - 66s 212ms/step - loss: 0.0664 - accuracy: 0.9791 - val_loss: 0.0343 - val_accuracy: 0.9800\n",
      "Epoch 65/100\n",
      "313/313 [==============================] - 64s 206ms/step - loss: 0.0690 - accuracy: 0.9783 - val_loss: 0.0929 - val_accuracy: 0.9760\n",
      "Epoch 66/100\n",
      "313/313 [==============================] - 65s 207ms/step - loss: 0.0637 - accuracy: 0.9802 - val_loss: 0.1062 - val_accuracy: 0.9795\n",
      "Epoch 67/100\n",
      "313/313 [==============================] - 66s 209ms/step - loss: 0.0746 - accuracy: 0.9785 - val_loss: 0.0980 - val_accuracy: 0.9745\n",
      "Epoch 68/100\n",
      "313/313 [==============================] - 66s 211ms/step - loss: 0.0631 - accuracy: 0.9798 - val_loss: 0.0150 - val_accuracy: 0.9815\n",
      "Epoch 69/100\n",
      "313/313 [==============================] - 64s 205ms/step - loss: 0.0586 - accuracy: 0.9805 - val_loss: 0.0205 - val_accuracy: 0.9805\n",
      "Epoch 70/100\n",
      "313/313 [==============================] - 65s 207ms/step - loss: 0.0639 - accuracy: 0.9794 - val_loss: 0.0262 - val_accuracy: 0.9830\n",
      "Epoch 71/100\n",
      "313/313 [==============================] - 65s 209ms/step - loss: 0.0601 - accuracy: 0.9807 - val_loss: 0.0580 - val_accuracy: 0.9815\n",
      "Epoch 72/100\n",
      "313/313 [==============================] - 64s 206ms/step - loss: 0.0507 - accuracy: 0.9828 - val_loss: 0.0707 - val_accuracy: 0.9790\n",
      "Epoch 73/100\n",
      "313/313 [==============================] - 66s 212ms/step - loss: 0.0557 - accuracy: 0.9826 - val_loss: 0.0333 - val_accuracy: 0.9820\n",
      "Epoch 74/100\n",
      "313/313 [==============================] - 68s 216ms/step - loss: 0.0616 - accuracy: 0.9798 - val_loss: 0.1502 - val_accuracy: 0.9820\n",
      "Epoch 75/100\n",
      "313/313 [==============================] - 67s 214ms/step - loss: 0.0592 - accuracy: 0.9812 - val_loss: 0.0216 - val_accuracy: 0.9840\n",
      "Epoch 76/100\n",
      "313/313 [==============================] - 66s 210ms/step - loss: 0.0628 - accuracy: 0.9804 - val_loss: 0.1122 - val_accuracy: 0.9685\n",
      "Epoch 77/100\n",
      "313/313 [==============================] - 66s 209ms/step - loss: 0.0566 - accuracy: 0.9822 - val_loss: 0.0887 - val_accuracy: 0.9825\n",
      "Epoch 78/100\n",
      "313/313 [==============================] - 67s 215ms/step - loss: 0.0529 - accuracy: 0.9829 - val_loss: 0.0475 - val_accuracy: 0.9810\n",
      "Epoch 79/100\n",
      "313/313 [==============================] - 66s 210ms/step - loss: 0.0646 - accuracy: 0.9805 - val_loss: 0.0234 - val_accuracy: 0.9810\n",
      "Epoch 80/100\n",
      "313/313 [==============================] - 65s 207ms/step - loss: 0.0599 - accuracy: 0.9798 - val_loss: 0.0921 - val_accuracy: 0.9745\n",
      "Epoch 81/100\n",
      "313/313 [==============================] - 67s 215ms/step - loss: 0.0514 - accuracy: 0.9830 - val_loss: 0.0789 - val_accuracy: 0.9745\n",
      "Epoch 82/100\n",
      "313/313 [==============================] - 68s 217ms/step - loss: 0.0534 - accuracy: 0.9841 - val_loss: 0.0382 - val_accuracy: 0.9820\n",
      "Epoch 83/100\n",
      "313/313 [==============================] - 57s 182ms/step - loss: 0.0530 - accuracy: 0.9827 - val_loss: 0.0309 - val_accuracy: 0.9830\n",
      "Epoch 84/100\n",
      "313/313 [==============================] - 55s 175ms/step - loss: 0.0654 - accuracy: 0.9809 - val_loss: 0.0775 - val_accuracy: 0.9790\n",
      "Epoch 85/100\n",
      "313/313 [==============================] - 56s 177ms/step - loss: 0.0570 - accuracy: 0.9804 - val_loss: 0.0144 - val_accuracy: 0.9810\n",
      "Epoch 86/100\n",
      "313/313 [==============================] - 56s 178ms/step - loss: 0.0562 - accuracy: 0.9807 - val_loss: 0.0826 - val_accuracy: 0.9840\n",
      "Epoch 87/100\n",
      "313/313 [==============================] - 54s 173ms/step - loss: 0.0542 - accuracy: 0.9822 - val_loss: 0.0184 - val_accuracy: 0.9800\n",
      "Epoch 88/100\n",
      "313/313 [==============================] - 54s 172ms/step - loss: 0.0599 - accuracy: 0.9820 - val_loss: 0.1044 - val_accuracy: 0.9815\n",
      "Epoch 89/100\n",
      "313/313 [==============================] - 54s 172ms/step - loss: 0.0463 - accuracy: 0.9849 - val_loss: 0.0239 - val_accuracy: 0.9825\n",
      "Epoch 90/100\n",
      "313/313 [==============================] - 54s 172ms/step - loss: 0.0514 - accuracy: 0.9837 - val_loss: 0.0476 - val_accuracy: 0.9790\n",
      "Epoch 91/100\n",
      "313/313 [==============================] - 55s 176ms/step - loss: 0.0541 - accuracy: 0.9843 - val_loss: 0.0348 - val_accuracy: 0.9815\n",
      "Epoch 92/100\n",
      "313/313 [==============================] - 56s 179ms/step - loss: 0.0604 - accuracy: 0.9805 - val_loss: 0.0470 - val_accuracy: 0.9720\n",
      "Epoch 93/100\n",
      "313/313 [==============================] - 63s 203ms/step - loss: 0.0474 - accuracy: 0.9828 - val_loss: 0.0625 - val_accuracy: 0.9800\n",
      "Epoch 94/100\n",
      "313/313 [==============================] - 56s 178ms/step - loss: 0.0609 - accuracy: 0.9791 - val_loss: 0.0219 - val_accuracy: 0.9820\n",
      "Epoch 95/100\n",
      "313/313 [==============================] - 56s 179ms/step - loss: 0.0524 - accuracy: 0.9826 - val_loss: 0.0306 - val_accuracy: 0.9820\n",
      "Epoch 96/100\n",
      "313/313 [==============================] - 57s 181ms/step - loss: 0.0551 - accuracy: 0.9825 - val_loss: 0.0446 - val_accuracy: 0.9810\n",
      "Epoch 97/100\n",
      "313/313 [==============================] - 57s 181ms/step - loss: 0.0611 - accuracy: 0.9796 - val_loss: 0.0310 - val_accuracy: 0.9795\n",
      "Epoch 98/100\n",
      "313/313 [==============================] - 56s 180ms/step - loss: 0.0623 - accuracy: 0.9806 - val_loss: 0.0887 - val_accuracy: 0.9795\n",
      "Epoch 99/100\n",
      "313/313 [==============================] - 58s 186ms/step - loss: 0.0531 - accuracy: 0.9843 - val_loss: 0.0960 - val_accuracy: 0.9795\n",
      "Epoch 100/100\n",
      "313/313 [==============================] - 58s 186ms/step - loss: 0.0498 - accuracy: 0.9847 - val_loss: 0.0968 - val_accuracy: 0.9750\n"
     ]
    }
   ],
   "source": [
    "# Fitting our CNN with 250 epochs and setting the results to history for visuals\n",
    "history = model.fit_generator(generator=train_generator,\n",
    "                    steps_per_epoch=313,\n",
    "                    validation_data=val_generator,\n",
    "                    validation_steps=63,\n",
    "                    epochs=100)"
   ]
  },
  {
   "cell_type": "code",
   "execution_count": 130,
   "metadata": {},
   "outputs": [
    {
     "data": {
      "image/png": "[encoded data removed]",
      "text/plain": [
       "<Figure size 864x576 with 1 Axes>"
      ]
     },
     "metadata": {
      "needs_background": "light"
     },
     "output_type": "display_data"
    }
   ],
   "source": [
    "# Check out our train accuracy and validation accuracy over epochs.\n",
    "train_accuracy = history.history['accuracy']\n",
    "val_accuracy = history.history['val_accuracy']\n",
    "\n",
    "# Set figure size.\n",
    "plt.figure(figsize=(12, 8))\n",
    "\n",
    "# Generate line plot of training, testing loss over epochs.\n",
    "plt.plot(train_accuracy, label='Training Accuracy', color='#185fad')\n",
    "plt.plot(val_accuracy, label='Validation Accuracy', color='orange')\n",
    "\n",
    "# Set title\n",
    "plt.title('Training and Validation Accuracy by Epoch', fontsize = 25)\n",
    "plt.xlabel('Epoch', fontsize = 18)\n",
    "plt.ylabel('Categorical Crossentropy', fontsize = 18)\n",
    "plt.xticks(range(0,100,5), range(0,100,5))\n",
    "\n",
    "plt.legend(fontsize = 18)\n",
    "plt.show();"
   ]
  },
  {
   "cell_type": "code",
   "execution_count": 297,
   "metadata": {
    "scrolled": true
   },
   "outputs": [
    {
     "data": {
      "text/html": [
       "<div>\n",
       "<style scoped>\n",
       "    .dataframe tbody tr th:only-of-type {\n",
       "        vertical-align: middle;\n",
       "    }\n",
       "\n",
       "    .dataframe tbody tr th {\n",
       "        vertical-align: top;\n",
       "    }\n",
       "\n",
       "    .dataframe thead th {\n",
       "        text-align: right;\n",
       "    }\n",
       "</style>\n",
       "<table border=\"1\" class=\"dataframe\">\n",
       "  <thead>\n",
       "    <tr style=\"text-align: right;\">\n",
       "      <th></th>\n",
       "      <th>file</th>\n",
       "      <th>label</th>\n",
       "      <th>predictions</th>\n",
       "    </tr>\n",
       "  </thead>\n",
       "  <tbody>\n",
       "    <tr>\n",
       "      <th>12000</th>\n",
       "      <td>2196-170151-0030.flac.jpg</td>\n",
       "      <td>0</td>\n",
       "      <td>0</td>\n",
       "    </tr>\n",
       "    <tr>\n",
       "      <th>12001</th>\n",
       "      <td>3436-172162-0003.flac.jpg</td>\n",
       "      <td>1</td>\n",
       "      <td>1</td>\n",
       "    </tr>\n",
       "    <tr>\n",
       "      <th>12002</th>\n",
       "      <td>1098-133695-0078.flac.jpg</td>\n",
       "      <td>0</td>\n",
       "      <td>0</td>\n",
       "    </tr>\n",
       "    <tr>\n",
       "      <th>12003</th>\n",
       "      <td>446-123502-0011.flac.jpg</td>\n",
       "      <td>1</td>\n",
       "      <td>1</td>\n",
       "    </tr>\n",
       "    <tr>\n",
       "      <th>12004</th>\n",
       "      <td>441-128982-0025.flac.jpg</td>\n",
       "      <td>0</td>\n",
       "      <td>0</td>\n",
       "    </tr>\n",
       "    <tr>\n",
       "      <th>...</th>\n",
       "      <td>...</td>\n",
       "      <td>...</td>\n",
       "      <td>...</td>\n",
       "    </tr>\n",
       "    <tr>\n",
       "      <th>12995</th>\n",
       "      <td>196-122150-0023.flac.jpg</td>\n",
       "      <td>1</td>\n",
       "      <td>1</td>\n",
       "    </tr>\n",
       "    <tr>\n",
       "      <th>12996</th>\n",
       "      <td>1970-10594-0021.flac.jpg</td>\n",
       "      <td>0</td>\n",
       "      <td>0</td>\n",
       "    </tr>\n",
       "    <tr>\n",
       "      <th>12997</th>\n",
       "      <td>669-129061-0062.flac.jpg</td>\n",
       "      <td>0</td>\n",
       "      <td>0</td>\n",
       "    </tr>\n",
       "    <tr>\n",
       "      <th>12998</th>\n",
       "      <td>1624-142933-0027.flac.jpg</td>\n",
       "      <td>1</td>\n",
       "      <td>1</td>\n",
       "    </tr>\n",
       "    <tr>\n",
       "      <th>12999</th>\n",
       "      <td>909-131045-0018.flac.jpg</td>\n",
       "      <td>1</td>\n",
       "      <td>1</td>\n",
       "    </tr>\n",
       "  </tbody>\n",
       "</table>\n",
       "<p>1000 rows × 3 columns</p>\n",
       "</div>"
      ],
      "text/plain": [
       "                            file label predictions\n",
       "12000  2196-170151-0030.flac.jpg     0           0\n",
       "12001  3436-172162-0003.flac.jpg     1           1\n",
       "12002  1098-133695-0078.flac.jpg     0           0\n",
       "12003   446-123502-0011.flac.jpg     1           1\n",
       "12004   441-128982-0025.flac.jpg     0           0\n",
       "...                          ...   ...         ...\n",
       "12995   196-122150-0023.flac.jpg     1           1\n",
       "12996   1970-10594-0021.flac.jpg     0           0\n",
       "12997   669-129061-0062.flac.jpg     0           0\n",
       "12998  1624-142933-0027.flac.jpg     1           1\n",
       "12999   909-131045-0018.flac.jpg     1           1\n",
       "\n",
       "[1000 rows x 3 columns]"
      ]
     },
     "execution_count": 297,
     "metadata": {},
     "output_type": "execute_result"
    }
   ],
   "source": [
    "test"
   ]
  },
  {
   "cell_type": "code",
   "execution_count": 298,
   "metadata": {},
   "outputs": [],
   "source": [
    "preds = model.predict_generator(test_generator)"
   ]
  },
  {
   "cell_type": "code",
   "execution_count": 299,
   "metadata": {},
   "outputs": [
    {
     "data": {
      "text/plain": [
       "array([[9.6926647e-01, 3.0733489e-02],\n",
       "       [7.3766365e-04, 9.9926227e-01],\n",
       "       [9.8911065e-01, 1.0889274e-02],\n",
       "       ...,\n",
       "       [9.7418076e-01, 2.5819227e-02],\n",
       "       [4.7055119e-06, 9.9999535e-01],\n",
       "       [3.6702168e-08, 1.0000000e+00]], dtype=float32)"
      ]
     },
     "execution_count": 299,
     "metadata": {},
     "output_type": "execute_result"
    }
   ],
   "source": [
    "preds"
   ]
  },
  {
   "cell_type": "code",
   "execution_count": 300,
   "metadata": {},
   "outputs": [],
   "source": [
    "p = []\n",
    "for i in range(0, len(preds)):\n",
    "    p.append(np.where(preds[i] == max(preds[i])))"
   ]
  },
  {
   "cell_type": "code",
   "execution_count": 301,
   "metadata": {},
   "outputs": [],
   "source": [
    "predictions = []\n",
    "for i in range(0, len(preds)):\n",
    "    predictions.append(p[i][0][0])"
   ]
  },
  {
   "cell_type": "code",
   "execution_count": 302,
   "metadata": {},
   "outputs": [
    {
     "name": "stderr",
     "output_type": "stream",
     "text": [
      "/Users/jurgenarias/anaconda3/envs/dsi/lib/python3.7/site-packages/ipykernel_launcher.py:1: SettingWithCopyWarning: \n",
      "A value is trying to be set on a copy of a slice from a DataFrame.\n",
      "Try using .loc[row_indexer,col_indexer] = value instead\n",
      "\n",
      "See the caveats in the documentation: http://pandas.pydata.org/pandas-docs/stable/user_guide/indexing.html#returning-a-view-versus-a-copy\n",
      "  \"\"\"Entry point for launching an IPython kernel.\n"
     ]
    }
   ],
   "source": [
    "test['predictions'] = predictions"
   ]
  },
  {
   "cell_type": "code",
   "execution_count": 303,
   "metadata": {},
   "outputs": [
    {
     "name": "stderr",
     "output_type": "stream",
     "text": [
      "/Users/jurgenarias/anaconda3/envs/dsi/lib/python3.7/site-packages/ipykernel_launcher.py:1: SettingWithCopyWarning: \n",
      "A value is trying to be set on a copy of a slice from a DataFrame.\n",
      "Try using .loc[row_indexer,col_indexer] = value instead\n",
      "\n",
      "See the caveats in the documentation: http://pandas.pydata.org/pandas-docs/stable/user_guide/indexing.html#returning-a-view-versus-a-copy\n",
      "  \"\"\"Entry point for launching an IPython kernel.\n"
     ]
    }
   ],
   "source": [
    "test['predictions'] = test['predictions'].astype(str)"
   ]
  },
  {
   "cell_type": "code",
   "execution_count": 305,
   "metadata": {},
   "outputs": [
    {
     "data": {
      "text/plain": [
       "0.977"
      ]
     },
     "execution_count": 305,
     "metadata": {},
     "output_type": "execute_result"
    }
   ],
   "source": [
    "round(len(test[test['label'] == test['predictions']])/len(test),4)"
   ]
  },
  {
   "cell_type": "markdown",
   "metadata": {},
   "source": [
    "### We got 97.7% accuracy on our test data"
   ]
  },
  {
   "cell_type": "markdown",
   "metadata": {},
   "source": [
    "But the test data is made of speakers that our model already knows because it has heard them before in the training data so this accuracy does not really reflect unseen data"
   ]
  },
  {
   "cell_type": "code",
   "execution_count": 345,
   "metadata": {},
   "outputs": [],
   "source": [
    "filelist = os.listdir('test_female') \n",
    "#read them into pandas\n",
    "df_female = pd.DataFrame(filelist)"
   ]
  },
  {
   "cell_type": "code",
   "execution_count": 346,
   "metadata": {},
   "outputs": [],
   "source": [
    "df_female['label']='0'"
   ]
  },
  {
   "cell_type": "code",
   "execution_count": 347,
   "metadata": {},
   "outputs": [],
   "source": [
    "df_female = df_female.rename(columns={0:'file'})"
   ]
  },
  {
   "cell_type": "code",
   "execution_count": 348,
   "metadata": {},
   "outputs": [
    {
     "data": {
      "text/html": [
       "<div>\n",
       "<style scoped>\n",
       "    .dataframe tbody tr th:only-of-type {\n",
       "        vertical-align: middle;\n",
       "    }\n",
       "\n",
       "    .dataframe tbody tr th {\n",
       "        vertical-align: top;\n",
       "    }\n",
       "\n",
       "    .dataframe thead th {\n",
       "        text-align: right;\n",
       "    }\n",
       "</style>\n",
       "<table border=\"1\" class=\"dataframe\">\n",
       "  <thead>\n",
       "    <tr style=\"text-align: right;\">\n",
       "      <th></th>\n",
       "      <th>file</th>\n",
       "      <th>label</th>\n",
       "    </tr>\n",
       "  </thead>\n",
       "  <tbody>\n",
       "    <tr>\n",
       "      <th>7</th>\n",
       "      <td>.DS_Store</td>\n",
       "      <td>0</td>\n",
       "    </tr>\n",
       "  </tbody>\n",
       "</table>\n",
       "</div>"
      ],
      "text/plain": [
       "        file label\n",
       "7  .DS_Store     0"
      ]
     },
     "execution_count": 348,
     "metadata": {},
     "output_type": "execute_result"
    }
   ],
   "source": [
    "df_female[df_female['file']=='.DS_Store']"
   ]
  },
  {
   "cell_type": "code",
   "execution_count": 349,
   "metadata": {},
   "outputs": [],
   "source": [
    "df_female.drop(7, inplace=True)"
   ]
  },
  {
   "cell_type": "code",
   "execution_count": 350,
   "metadata": {},
   "outputs": [],
   "source": [
    "df_female = df_female.reset_index(drop=True)"
   ]
  },
  {
   "cell_type": "code",
   "execution_count": 351,
   "metadata": {},
   "outputs": [],
   "source": [
    "filelist = os.listdir('test_male') \n",
    "#read them into pandas\n",
    "df_male = pd.DataFrame(filelist)"
   ]
  },
  {
   "cell_type": "code",
   "execution_count": 352,
   "metadata": {},
   "outputs": [],
   "source": [
    "df_male['label']='1'"
   ]
  },
  {
   "cell_type": "code",
   "execution_count": 353,
   "metadata": {},
   "outputs": [],
   "source": [
    "df_male = df_male.rename(columns={0:'file'})"
   ]
  },
  {
   "cell_type": "code",
   "execution_count": 354,
   "metadata": {},
   "outputs": [
    {
     "data": {
      "text/html": [
       "<div>\n",
       "<style scoped>\n",
       "    .dataframe tbody tr th:only-of-type {\n",
       "        vertical-align: middle;\n",
       "    }\n",
       "\n",
       "    .dataframe tbody tr th {\n",
       "        vertical-align: top;\n",
       "    }\n",
       "\n",
       "    .dataframe thead th {\n",
       "        text-align: right;\n",
       "    }\n",
       "</style>\n",
       "<table border=\"1\" class=\"dataframe\">\n",
       "  <thead>\n",
       "    <tr style=\"text-align: right;\">\n",
       "      <th></th>\n",
       "      <th>file</th>\n",
       "      <th>label</th>\n",
       "    </tr>\n",
       "  </thead>\n",
       "  <tbody>\n",
       "    <tr>\n",
       "      <th>6</th>\n",
       "      <td>.DS_Store</td>\n",
       "      <td>1</td>\n",
       "    </tr>\n",
       "  </tbody>\n",
       "</table>\n",
       "</div>"
      ],
      "text/plain": [
       "        file label\n",
       "6  .DS_Store     1"
      ]
     },
     "execution_count": 354,
     "metadata": {},
     "output_type": "execute_result"
    }
   ],
   "source": [
    "df_male[df_male['file']=='.DS_Store']"
   ]
  },
  {
   "cell_type": "code",
   "execution_count": 355,
   "metadata": {},
   "outputs": [],
   "source": [
    "df_male.drop(6, inplace=True)"
   ]
  },
  {
   "cell_type": "code",
   "execution_count": 356,
   "metadata": {},
   "outputs": [],
   "source": [
    "df_male = df_male.reset_index(drop=True)"
   ]
  },
  {
   "cell_type": "code",
   "execution_count": null,
   "metadata": {},
   "outputs": [],
   "source": []
  },
  {
   "cell_type": "code",
   "execution_count": 357,
   "metadata": {},
   "outputs": [],
   "source": [
    "df = pd.concat([df_female, df_male], ignore_index=True)"
   ]
  },
  {
   "cell_type": "code",
   "execution_count": 358,
   "metadata": {
    "scrolled": true
   },
   "outputs": [
    {
     "data": {
      "text/html": [
       "<div>\n",
       "<style scoped>\n",
       "    .dataframe tbody tr th:only-of-type {\n",
       "        vertical-align: middle;\n",
       "    }\n",
       "\n",
       "    .dataframe tbody tr th {\n",
       "        vertical-align: top;\n",
       "    }\n",
       "\n",
       "    .dataframe thead th {\n",
       "        text-align: right;\n",
       "    }\n",
       "</style>\n",
       "<table border=\"1\" class=\"dataframe\">\n",
       "  <thead>\n",
       "    <tr style=\"text-align: right;\">\n",
       "      <th></th>\n",
       "      <th>file</th>\n",
       "      <th>label</th>\n",
       "    </tr>\n",
       "  </thead>\n",
       "  <tbody>\n",
       "    <tr>\n",
       "      <th>0</th>\n",
       "      <td>2910-131096-0007.flac</td>\n",
       "      <td>0</td>\n",
       "    </tr>\n",
       "    <tr>\n",
       "      <th>1</th>\n",
       "      <td>5778-12761-0000.flac</td>\n",
       "      <td>0</td>\n",
       "    </tr>\n",
       "    <tr>\n",
       "      <th>2</th>\n",
       "      <td>4680-16026-0000.flac</td>\n",
       "      <td>0</td>\n",
       "    </tr>\n",
       "    <tr>\n",
       "      <th>3</th>\n",
       "      <td>6272-70168-0000.flac</td>\n",
       "      <td>0</td>\n",
       "    </tr>\n",
       "    <tr>\n",
       "      <th>4</th>\n",
       "      <td>5867-48852-0000.flac</td>\n",
       "      <td>0</td>\n",
       "    </tr>\n",
       "    <tr>\n",
       "      <th>...</th>\n",
       "      <td>...</td>\n",
       "      <td>...</td>\n",
       "    </tr>\n",
       "    <tr>\n",
       "      <th>95</th>\n",
       "      <td>7447-91186-0000.flac</td>\n",
       "      <td>1</td>\n",
       "    </tr>\n",
       "    <tr>\n",
       "      <th>96</th>\n",
       "      <td>4830-25898-0000.flac</td>\n",
       "      <td>1</td>\n",
       "    </tr>\n",
       "    <tr>\n",
       "      <th>97</th>\n",
       "      <td>4788-91208-0000.flac</td>\n",
       "      <td>1</td>\n",
       "    </tr>\n",
       "    <tr>\n",
       "      <th>98</th>\n",
       "      <td>6367-65536-0000.flac</td>\n",
       "      <td>1</td>\n",
       "    </tr>\n",
       "    <tr>\n",
       "      <th>99</th>\n",
       "      <td>4267-72637-0017.flac</td>\n",
       "      <td>1</td>\n",
       "    </tr>\n",
       "  </tbody>\n",
       "</table>\n",
       "<p>100 rows × 2 columns</p>\n",
       "</div>"
      ],
      "text/plain": [
       "                     file label\n",
       "0   2910-131096-0007.flac     0\n",
       "1    5778-12761-0000.flac     0\n",
       "2    4680-16026-0000.flac     0\n",
       "3    6272-70168-0000.flac     0\n",
       "4    5867-48852-0000.flac     0\n",
       "..                    ...   ...\n",
       "95   7447-91186-0000.flac     1\n",
       "96   4830-25898-0000.flac     1\n",
       "97   4788-91208-0000.flac     1\n",
       "98   6367-65536-0000.flac     1\n",
       "99   4267-72637-0017.flac     1\n",
       "\n",
       "[100 rows x 2 columns]"
      ]
     },
     "execution_count": 358,
     "metadata": {},
     "output_type": "execute_result"
    }
   ],
   "source": [
    "df"
   ]
  },
  {
   "cell_type": "code",
   "execution_count": 360,
   "metadata": {},
   "outputs": [],
   "source": [
    "df.apply(images, axis=1);"
   ]
  },
  {
   "cell_type": "code",
   "execution_count": 361,
   "metadata": {},
   "outputs": [],
   "source": [
    "# Function to change the file names to the image names to use them later \n",
    "def make_jpg(files):\n",
    "    return str(files)+'.jpg'"
   ]
  },
  {
   "cell_type": "code",
   "execution_count": 362,
   "metadata": {},
   "outputs": [],
   "source": [
    "df['file'] = df['file'].apply(make_jpg)"
   ]
  },
  {
   "cell_type": "code",
   "execution_count": 363,
   "metadata": {},
   "outputs": [
    {
     "data": {
      "text/html": [
       "<div>\n",
       "<style scoped>\n",
       "    .dataframe tbody tr th:only-of-type {\n",
       "        vertical-align: middle;\n",
       "    }\n",
       "\n",
       "    .dataframe tbody tr th {\n",
       "        vertical-align: top;\n",
       "    }\n",
       "\n",
       "    .dataframe thead th {\n",
       "        text-align: right;\n",
       "    }\n",
       "</style>\n",
       "<table border=\"1\" class=\"dataframe\">\n",
       "  <thead>\n",
       "    <tr style=\"text-align: right;\">\n",
       "      <th></th>\n",
       "      <th>file</th>\n",
       "      <th>label</th>\n",
       "    </tr>\n",
       "  </thead>\n",
       "  <tbody>\n",
       "    <tr>\n",
       "      <th>0</th>\n",
       "      <td>2910-131096-0007.flac.jpg</td>\n",
       "      <td>0</td>\n",
       "    </tr>\n",
       "    <tr>\n",
       "      <th>1</th>\n",
       "      <td>5778-12761-0000.flac.jpg</td>\n",
       "      <td>0</td>\n",
       "    </tr>\n",
       "    <tr>\n",
       "      <th>2</th>\n",
       "      <td>4680-16026-0000.flac.jpg</td>\n",
       "      <td>0</td>\n",
       "    </tr>\n",
       "    <tr>\n",
       "      <th>3</th>\n",
       "      <td>6272-70168-0000.flac.jpg</td>\n",
       "      <td>0</td>\n",
       "    </tr>\n",
       "    <tr>\n",
       "      <th>4</th>\n",
       "      <td>5867-48852-0000.flac.jpg</td>\n",
       "      <td>0</td>\n",
       "    </tr>\n",
       "    <tr>\n",
       "      <th>...</th>\n",
       "      <td>...</td>\n",
       "      <td>...</td>\n",
       "    </tr>\n",
       "    <tr>\n",
       "      <th>95</th>\n",
       "      <td>7447-91186-0000.flac.jpg</td>\n",
       "      <td>1</td>\n",
       "    </tr>\n",
       "    <tr>\n",
       "      <th>96</th>\n",
       "      <td>4830-25898-0000.flac.jpg</td>\n",
       "      <td>1</td>\n",
       "    </tr>\n",
       "    <tr>\n",
       "      <th>97</th>\n",
       "      <td>4788-91208-0000.flac.jpg</td>\n",
       "      <td>1</td>\n",
       "    </tr>\n",
       "    <tr>\n",
       "      <th>98</th>\n",
       "      <td>6367-65536-0000.flac.jpg</td>\n",
       "      <td>1</td>\n",
       "    </tr>\n",
       "    <tr>\n",
       "      <th>99</th>\n",
       "      <td>4267-72637-0017.flac.jpg</td>\n",
       "      <td>1</td>\n",
       "    </tr>\n",
       "  </tbody>\n",
       "</table>\n",
       "<p>100 rows × 2 columns</p>\n",
       "</div>"
      ],
      "text/plain": [
       "                         file label\n",
       "0   2910-131096-0007.flac.jpg     0\n",
       "1    5778-12761-0000.flac.jpg     0\n",
       "2    4680-16026-0000.flac.jpg     0\n",
       "3    6272-70168-0000.flac.jpg     0\n",
       "4    5867-48852-0000.flac.jpg     0\n",
       "..                        ...   ...\n",
       "95   7447-91186-0000.flac.jpg     1\n",
       "96   4830-25898-0000.flac.jpg     1\n",
       "97   4788-91208-0000.flac.jpg     1\n",
       "98   6367-65536-0000.flac.jpg     1\n",
       "99   4267-72637-0017.flac.jpg     1\n",
       "\n",
       "[100 rows x 2 columns]"
      ]
     },
     "execution_count": 363,
     "metadata": {},
     "output_type": "execute_result"
    }
   ],
   "source": [
    "df"
   ]
  },
  {
   "cell_type": "code",
   "execution_count": 364,
   "metadata": {},
   "outputs": [
    {
     "name": "stdout",
     "output_type": "stream",
     "text": [
      "Found 100 validated image filenames belonging to 2 classes.\n"
     ]
    }
   ],
   "source": [
    "test_generator=datagen.flow_from_dataframe(\n",
    "    dataframe=df,\n",
    "    directory=\"voice_images_test_new\",\n",
    "    x_col=\"file\",\n",
    "    y_col=\"label\",\n",
    "    batch_size=32,\n",
    "    shuffle=False,\n",
    "    class_mode=\"categorical\",\n",
    "    target_size=(64,64))"
   ]
  },
  {
   "cell_type": "code",
   "execution_count": 365,
   "metadata": {},
   "outputs": [],
   "source": [
    "preds = model.predict_generator(test_generator)"
   ]
  },
  {
   "cell_type": "code",
   "execution_count": 366,
   "metadata": {},
   "outputs": [],
   "source": [
    "p = []\n",
    "for i in range(0, len(preds)):\n",
    "    p.append(np.where(preds[i] == max(preds[i])))"
   ]
  },
  {
   "cell_type": "code",
   "execution_count": 367,
   "metadata": {},
   "outputs": [],
   "source": [
    "predictions = []\n",
    "for i in range(0, len(preds)):\n",
    "    predictions.append(p[i][0][0])"
   ]
  },
  {
   "cell_type": "code",
   "execution_count": 368,
   "metadata": {},
   "outputs": [],
   "source": [
    "df['predictions'] = predictions"
   ]
  },
  {
   "cell_type": "code",
   "execution_count": 369,
   "metadata": {},
   "outputs": [],
   "source": [
    "df['predictions'] = df['predictions'].astype(str)"
   ]
  },
  {
   "cell_type": "code",
   "execution_count": 370,
   "metadata": {
    "scrolled": false
   },
   "outputs": [
    {
     "data": {
      "text/html": [
       "<div>\n",
       "<style scoped>\n",
       "    .dataframe tbody tr th:only-of-type {\n",
       "        vertical-align: middle;\n",
       "    }\n",
       "\n",
       "    .dataframe tbody tr th {\n",
       "        vertical-align: top;\n",
       "    }\n",
       "\n",
       "    .dataframe thead th {\n",
       "        text-align: right;\n",
       "    }\n",
       "</style>\n",
       "<table border=\"1\" class=\"dataframe\">\n",
       "  <thead>\n",
       "    <tr style=\"text-align: right;\">\n",
       "      <th></th>\n",
       "      <th>file</th>\n",
       "      <th>label</th>\n",
       "      <th>predictions</th>\n",
       "    </tr>\n",
       "  </thead>\n",
       "  <tbody>\n",
       "    <tr>\n",
       "      <th>26</th>\n",
       "      <td>6531-61334-0037.flac.jpg</td>\n",
       "      <td>0</td>\n",
       "      <td>1</td>\n",
       "    </tr>\n",
       "    <tr>\n",
       "      <th>52</th>\n",
       "      <td>3607-29116-0008.flac.jpg</td>\n",
       "      <td>1</td>\n",
       "      <td>0</td>\n",
       "    </tr>\n",
       "    <tr>\n",
       "      <th>68</th>\n",
       "      <td>6019-3185-0000.flac.jpg</td>\n",
       "      <td>1</td>\n",
       "      <td>0</td>\n",
       "    </tr>\n",
       "    <tr>\n",
       "      <th>73</th>\n",
       "      <td>3830-12529-0001.flac.jpg</td>\n",
       "      <td>1</td>\n",
       "      <td>0</td>\n",
       "    </tr>\n",
       "    <tr>\n",
       "      <th>85</th>\n",
       "      <td>4406-16882-0000.flac.jpg</td>\n",
       "      <td>1</td>\n",
       "      <td>0</td>\n",
       "    </tr>\n",
       "  </tbody>\n",
       "</table>\n",
       "</div>"
      ],
      "text/plain": [
       "                        file label predictions\n",
       "26  6531-61334-0037.flac.jpg     0           1\n",
       "52  3607-29116-0008.flac.jpg     1           0\n",
       "68   6019-3185-0000.flac.jpg     1           0\n",
       "73  3830-12529-0001.flac.jpg     1           0\n",
       "85  4406-16882-0000.flac.jpg     1           0"
      ]
     },
     "execution_count": 370,
     "metadata": {},
     "output_type": "execute_result"
    }
   ],
   "source": [
    "df[df['label'] != df['predictions']]"
   ]
  },
  {
   "cell_type": "code",
   "execution_count": 372,
   "metadata": {},
   "outputs": [
    {
     "data": {
      "text/plain": [
       "0.95"
      ]
     },
     "execution_count": 372,
     "metadata": {},
     "output_type": "execute_result"
    }
   ],
   "source": [
    "round(len(df[df['label'] == df['predictions']])/len(df),4)"
   ]
  },
  {
   "cell_type": "markdown",
   "metadata": {},
   "source": [
    "#### We got 95% accuracy on our test never before seen data"
   ]
  },
  {
   "cell_type": "code",
   "execution_count": 1588,
   "metadata": {},
   "outputs": [],
   "source": [
    "# Saving the dataframe to use with our Dense NN to use as a voting classifier \n",
    "predic_cnn = pd.DataFrame(preds)\n",
    "\n",
    "predic_cnn.to_csv('predict_cnn.csv', index=False)"
   ]
  },
  {
   "cell_type": "code",
   "execution_count": 1526,
   "metadata": {},
   "outputs": [],
   "source": [
    "os.system('say -v Juan ya acabé');"
   ]
  }
 ],
 "metadata": {
  "kernelspec": {
   "display_name": "Python 3 (ipykernel)",
   "language": "python",
   "name": "python3"
  },
  "language_info": {
   "codemirror_mode": {
    "name": "ipython",
    "version": 3
   },
   "file_extension": ".py",
   "mimetype": "text/x-python",
   "name": "python",
   "nbconvert_exporter": "python",
   "pygments_lexer": "ipython3",
   "version": "3.9.13"
  }
 },
 "nbformat": 4,
 "nbformat_minor": 2
}
