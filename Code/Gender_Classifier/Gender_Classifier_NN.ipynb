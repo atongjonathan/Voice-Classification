{
 "cells": [
  {
   "cell_type": "markdown",
   "metadata": {},
   "source": [
    "#### Imports"
   ]
  },
  {
   "cell_type": "code",
   "execution_count": 1,
   "metadata": {},
   "outputs": [
    {
     "name": "stderr",
     "output_type": "stream",
     "text": [
      "Using TensorFlow backend.\n"
     ]
    }
   ],
   "source": [
    "import IPython.display as ipd\n",
    "# % pylab inline\n",
    "import os\n",
    "import pandas as pd\n",
    "import librosa\n",
    "import glob \n",
    "import librosa.display\n",
    "import random\n",
    "\n",
    "from sklearn.preprocessing import StandardScaler\n",
    "from sklearn.model_selection import train_test_split\n",
    "\n",
    "from keras.utils.np_utils import to_categorical\n",
    "\n",
    "import numpy as np\n",
    "from keras.models import Sequential\n",
    "from keras.layers import Dense, Dropout, Activation, Flatten\n",
    "from keras.layers import Convolution2D, MaxPooling2D\n",
    "from keras.optimizers import Adam\n",
    "from keras.utils import np_utils\n",
    "from sklearn import metrics \n",
    "\n",
    "from sklearn.datasets import make_regression\n",
    "from sklearn.preprocessing import StandardScaler\n",
    "from sklearn import metrics\n",
    "from sklearn.model_selection import train_test_split, GridSearchCV\n",
    "\n",
    "from tensorflow.keras.models import Sequential\n",
    "from tensorflow.keras.layers import Dense, Dropout \n",
    "from tensorflow.keras.wrappers.scikit_learn import KerasRegressor\n",
    "\n",
    "from keras.callbacks import EarlyStopping\n",
    "\n",
    "from keras import regularizers\n",
    "\n",
    "from sklearn.preprocessing import LabelEncoder\n",
    "\n",
    "from datetime import datetime\n",
    "\n",
    "import os"
   ]
  },
  {
   "cell_type": "code",
   "execution_count": 2,
   "metadata": {},
   "outputs": [],
   "source": [
    "# pip install librosa"
   ]
  },
  {
   "cell_type": "markdown",
   "metadata": {},
   "source": [
    "#### Reading the files from our folder and creating a dataframe from it"
   ]
  },
  {
   "cell_type": "code",
   "execution_count": 3,
   "metadata": {},
   "outputs": [],
   "source": [
    "#list the files\n",
    "filelist = os.listdir('male') \n",
    "#read them into pandas\n",
    "df_male = pd.DataFrame(filelist)"
   ]
  },
  {
   "cell_type": "code",
   "execution_count": 4,
   "metadata": {},
   "outputs": [],
   "source": [
    "# Adding the 1 label to the dataframe representing male\n",
    "df_male['label']='1'"
   ]
  },
  {
   "cell_type": "code",
   "execution_count": 5,
   "metadata": {},
   "outputs": [],
   "source": [
    "# Renaming the column name to file\n",
    "df_male = df_male.rename(columns={0:'file'})"
   ]
  },
  {
   "cell_type": "code",
   "execution_count": 6,
   "metadata": {},
   "outputs": [
    {
     "data": {
      "text/html": [
       "<div>\n",
       "<style scoped>\n",
       "    .dataframe tbody tr th:only-of-type {\n",
       "        vertical-align: middle;\n",
       "    }\n",
       "\n",
       "    .dataframe tbody tr th {\n",
       "        vertical-align: top;\n",
       "    }\n",
       "\n",
       "    .dataframe thead th {\n",
       "        text-align: right;\n",
       "    }\n",
       "</style>\n",
       "<table border=\"1\" class=\"dataframe\">\n",
       "  <thead>\n",
       "    <tr style=\"text-align: right;\">\n",
       "      <th></th>\n",
       "      <th>file</th>\n",
       "      <th>label</th>\n",
       "    </tr>\n",
       "  </thead>\n",
       "  <tbody>\n",
       "    <tr>\n",
       "      <th>0</th>\n",
       "      <td>2893-139322-0000.flac</td>\n",
       "      <td>1</td>\n",
       "    </tr>\n",
       "    <tr>\n",
       "      <th>1</th>\n",
       "      <td>1034-121119-0071.flac</td>\n",
       "      <td>1</td>\n",
       "    </tr>\n",
       "    <tr>\n",
       "      <th>2</th>\n",
       "      <td>78-369-0018.flac</td>\n",
       "      <td>1</td>\n",
       "    </tr>\n",
       "    <tr>\n",
       "      <th>3</th>\n",
       "      <td>322-124147-0038.flac</td>\n",
       "      <td>1</td>\n",
       "    </tr>\n",
       "    <tr>\n",
       "      <th>4</th>\n",
       "      <td>831-130739-0049.flac</td>\n",
       "      <td>1</td>\n",
       "    </tr>\n",
       "  </tbody>\n",
       "</table>\n",
       "</div>"
      ],
      "text/plain": [
       "                    file label\n",
       "0  2893-139322-0000.flac     1\n",
       "1  1034-121119-0071.flac     1\n",
       "2       78-369-0018.flac     1\n",
       "3   322-124147-0038.flac     1\n",
       "4   831-130739-0049.flac     1"
      ]
     },
     "execution_count": 6,
     "metadata": {},
     "output_type": "execute_result"
    }
   ],
   "source": [
    "df_male.head()"
   ]
  },
  {
   "cell_type": "code",
   "execution_count": 7,
   "metadata": {},
   "outputs": [
    {
     "data": {
      "text/html": [
       "<div>\n",
       "<style scoped>\n",
       "    .dataframe tbody tr th:only-of-type {\n",
       "        vertical-align: middle;\n",
       "    }\n",
       "\n",
       "    .dataframe tbody tr th {\n",
       "        vertical-align: top;\n",
       "    }\n",
       "\n",
       "    .dataframe thead th {\n",
       "        text-align: right;\n",
       "    }\n",
       "</style>\n",
       "<table border=\"1\" class=\"dataframe\">\n",
       "  <thead>\n",
       "    <tr style=\"text-align: right;\">\n",
       "      <th></th>\n",
       "      <th>file</th>\n",
       "      <th>label</th>\n",
       "    </tr>\n",
       "  </thead>\n",
       "  <tbody>\n",
       "  </tbody>\n",
       "</table>\n",
       "</div>"
      ],
      "text/plain": [
       "Empty DataFrame\n",
       "Columns: [file, label]\n",
       "Index: []"
      ]
     },
     "execution_count": 7,
     "metadata": {},
     "output_type": "execute_result"
    }
   ],
   "source": [
    "# Checking for a file that gets automatically generated and we need to drop \n",
    "df_male[df_male['file']=='.DS_Store']"
   ]
  },
  {
   "cell_type": "markdown",
   "metadata": {},
   "source": [
    "Doing the same for the female folder"
   ]
  },
  {
   "cell_type": "code",
   "execution_count": 8,
   "metadata": {},
   "outputs": [],
   "source": [
    "filelist = os.listdir('female') \n",
    "#read them into pandas\n",
    "df_female = pd.DataFrame(filelist)"
   ]
  },
  {
   "cell_type": "code",
   "execution_count": 9,
   "metadata": {},
   "outputs": [],
   "source": [
    "df_female['label']='0'"
   ]
  },
  {
   "cell_type": "code",
   "execution_count": 10,
   "metadata": {},
   "outputs": [],
   "source": [
    "df_female = df_female.rename(columns={0:'file'})"
   ]
  },
  {
   "cell_type": "code",
   "execution_count": 11,
   "metadata": {},
   "outputs": [
    {
     "data": {
      "text/html": [
       "<div>\n",
       "<style scoped>\n",
       "    .dataframe tbody tr th:only-of-type {\n",
       "        vertical-align: middle;\n",
       "    }\n",
       "\n",
       "    .dataframe tbody tr th {\n",
       "        vertical-align: top;\n",
       "    }\n",
       "\n",
       "    .dataframe thead th {\n",
       "        text-align: right;\n",
       "    }\n",
       "</style>\n",
       "<table border=\"1\" class=\"dataframe\">\n",
       "  <thead>\n",
       "    <tr style=\"text-align: right;\">\n",
       "      <th></th>\n",
       "      <th>file</th>\n",
       "      <th>label</th>\n",
       "    </tr>\n",
       "  </thead>\n",
       "  <tbody>\n",
       "    <tr>\n",
       "      <th>0</th>\n",
       "      <td>441-128982-0010.flac</td>\n",
       "      <td>0</td>\n",
       "    </tr>\n",
       "    <tr>\n",
       "      <th>1</th>\n",
       "      <td>1502-122619-0039.flac</td>\n",
       "      <td>0</td>\n",
       "    </tr>\n",
       "    <tr>\n",
       "      <th>2</th>\n",
       "      <td>302-123504-0010.flac</td>\n",
       "      <td>0</td>\n",
       "    </tr>\n",
       "    <tr>\n",
       "      <th>3</th>\n",
       "      <td>1553-140048-0029.flac</td>\n",
       "      <td>0</td>\n",
       "    </tr>\n",
       "    <tr>\n",
       "      <th>4</th>\n",
       "      <td>32-21625-0013.flac</td>\n",
       "      <td>0</td>\n",
       "    </tr>\n",
       "  </tbody>\n",
       "</table>\n",
       "</div>"
      ],
      "text/plain": [
       "                    file label\n",
       "0   441-128982-0010.flac     0\n",
       "1  1502-122619-0039.flac     0\n",
       "2   302-123504-0010.flac     0\n",
       "3  1553-140048-0029.flac     0\n",
       "4     32-21625-0013.flac     0"
      ]
     },
     "execution_count": 11,
     "metadata": {},
     "output_type": "execute_result"
    }
   ],
   "source": [
    "df_female.head()"
   ]
  },
  {
   "cell_type": "code",
   "execution_count": 12,
   "metadata": {
    "scrolled": true
   },
   "outputs": [
    {
     "data": {
      "text/html": [
       "<div>\n",
       "<style scoped>\n",
       "    .dataframe tbody tr th:only-of-type {\n",
       "        vertical-align: middle;\n",
       "    }\n",
       "\n",
       "    .dataframe tbody tr th {\n",
       "        vertical-align: top;\n",
       "    }\n",
       "\n",
       "    .dataframe thead th {\n",
       "        text-align: right;\n",
       "    }\n",
       "</style>\n",
       "<table border=\"1\" class=\"dataframe\">\n",
       "  <thead>\n",
       "    <tr style=\"text-align: right;\">\n",
       "      <th></th>\n",
       "      <th>file</th>\n",
       "      <th>label</th>\n",
       "    </tr>\n",
       "  </thead>\n",
       "  <tbody>\n",
       "    <tr>\n",
       "      <th>981</th>\n",
       "      <td>.DS_Store</td>\n",
       "      <td>0</td>\n",
       "    </tr>\n",
       "  </tbody>\n",
       "</table>\n",
       "</div>"
      ],
      "text/plain": [
       "          file label\n",
       "981  .DS_Store     0"
      ]
     },
     "execution_count": 12,
     "metadata": {},
     "output_type": "execute_result"
    }
   ],
   "source": [
    "# Checking for a file that gets automatically generated and we need to drop \n",
    "df_female[df_female['file']=='.DS_Store']"
   ]
  },
  {
   "cell_type": "code",
   "execution_count": 13,
   "metadata": {},
   "outputs": [],
   "source": [
    "# Dropping the system file\n",
    "df_female.drop(981, inplace=True)"
   ]
  },
  {
   "cell_type": "code",
   "execution_count": 14,
   "metadata": {},
   "outputs": [],
   "source": [
    "# Resetting the index since we dropped a row\n",
    "df_female = df_female.reset_index(drop=True)"
   ]
  },
  {
   "cell_type": "markdown",
   "metadata": {},
   "source": [
    "Joining both dataframes together "
   ]
  },
  {
   "cell_type": "code",
   "execution_count": 15,
   "metadata": {},
   "outputs": [],
   "source": [
    "df = pd.concat([df_female, df_male], ignore_index=True)"
   ]
  },
  {
   "cell_type": "code",
   "execution_count": 16,
   "metadata": {},
   "outputs": [
    {
     "data": {
      "text/html": [
       "<div>\n",
       "<style scoped>\n",
       "    .dataframe tbody tr th:only-of-type {\n",
       "        vertical-align: middle;\n",
       "    }\n",
       "\n",
       "    .dataframe tbody tr th {\n",
       "        vertical-align: top;\n",
       "    }\n",
       "\n",
       "    .dataframe thead th {\n",
       "        text-align: right;\n",
       "    }\n",
       "</style>\n",
       "<table border=\"1\" class=\"dataframe\">\n",
       "  <thead>\n",
       "    <tr style=\"text-align: right;\">\n",
       "      <th></th>\n",
       "      <th>file</th>\n",
       "      <th>label</th>\n",
       "    </tr>\n",
       "  </thead>\n",
       "  <tbody>\n",
       "    <tr>\n",
       "      <th>0</th>\n",
       "      <td>441-128982-0010.flac</td>\n",
       "      <td>0</td>\n",
       "    </tr>\n",
       "    <tr>\n",
       "      <th>1</th>\n",
       "      <td>1502-122619-0039.flac</td>\n",
       "      <td>0</td>\n",
       "    </tr>\n",
       "    <tr>\n",
       "      <th>2</th>\n",
       "      <td>302-123504-0010.flac</td>\n",
       "      <td>0</td>\n",
       "    </tr>\n",
       "    <tr>\n",
       "      <th>3</th>\n",
       "      <td>1553-140048-0029.flac</td>\n",
       "      <td>0</td>\n",
       "    </tr>\n",
       "    <tr>\n",
       "      <th>4</th>\n",
       "      <td>32-21625-0013.flac</td>\n",
       "      <td>0</td>\n",
       "    </tr>\n",
       "  </tbody>\n",
       "</table>\n",
       "</div>"
      ],
      "text/plain": [
       "                    file label\n",
       "0   441-128982-0010.flac     0\n",
       "1  1502-122619-0039.flac     0\n",
       "2   302-123504-0010.flac     0\n",
       "3  1553-140048-0029.flac     0\n",
       "4     32-21625-0013.flac     0"
      ]
     },
     "execution_count": 16,
     "metadata": {},
     "output_type": "execute_result"
    }
   ],
   "source": [
    "df.head()"
   ]
  },
  {
   "cell_type": "code",
   "execution_count": 17,
   "metadata": {},
   "outputs": [],
   "source": [
    "# Randomizing our files to be able to split into train, validation and test\n",
    "df = df.sample(frac=1, random_state=42).reset_index(drop=True)"
   ]
  },
  {
   "cell_type": "code",
   "execution_count": 53,
   "metadata": {},
   "outputs": [],
   "source": [
    "# We will be using our saved randomized df to replicate results\n",
    "# Any randomized df can be used but we already had the features for this randomized df\n",
    "\n",
    "# df = pd.read_csv('randomized_df.csv')"
   ]
  },
  {
   "cell_type": "markdown",
   "metadata": {},
   "source": [
    "We are going to do an split of train, validation and test with 70% train, 20% validation and 10% for test. We check that the randomized splits have balanced classes"
   ]
  },
  {
   "cell_type": "code",
   "execution_count": 54,
   "metadata": {},
   "outputs": [],
   "source": [
    "df_train = df[:9188]"
   ]
  },
  {
   "cell_type": "code",
   "execution_count": 55,
   "metadata": {},
   "outputs": [
    {
     "data": {
      "text/plain": [
       "0    0.501633\n",
       "1    0.498367\n",
       "Name: label, dtype: float64"
      ]
     },
     "execution_count": 55,
     "metadata": {},
     "output_type": "execute_result"
    }
   ],
   "source": [
    "df_train['label'].value_counts(normalize=True)"
   ]
  },
  {
   "cell_type": "code",
   "execution_count": 56,
   "metadata": {},
   "outputs": [],
   "source": [
    "df_validation = df[9188:11813]"
   ]
  },
  {
   "cell_type": "code",
   "execution_count": 57,
   "metadata": {},
   "outputs": [
    {
     "data": {
      "text/plain": [
       "1    0.502476\n",
       "0    0.497524\n",
       "Name: label, dtype: float64"
      ]
     },
     "execution_count": 57,
     "metadata": {},
     "output_type": "execute_result"
    }
   ],
   "source": [
    "df_validation['label'].value_counts(normalize=True)"
   ]
  },
  {
   "cell_type": "code",
   "execution_count": 58,
   "metadata": {},
   "outputs": [],
   "source": [
    "df_test = df[11813:13125]"
   ]
  },
  {
   "cell_type": "code",
   "execution_count": 59,
   "metadata": {},
   "outputs": [
    {
     "data": {
      "text/plain": [
       "1    0.500762\n",
       "0    0.499238\n",
       "Name: label, dtype: float64"
      ]
     },
     "execution_count": 59,
     "metadata": {},
     "output_type": "execute_result"
    }
   ],
   "source": [
    "df_test['label'].value_counts(normalize=True)"
   ]
  },
  {
   "cell_type": "markdown",
   "metadata": {},
   "source": [
    "#### Function to extract the features and label for each sound file by iterating through every row of the dataframe"
   ]
  },
  {
   "cell_type": "code",
   "execution_count": 60,
   "metadata": {},
   "outputs": [],
   "source": [
    "# Although this function was modified and many parameteres were explored with, most of it \n",
    "# came from Source 8 (sources in the READ.ME)\n",
    "\n",
    "def extract_features(files):\n",
    "    \n",
    "    # Sets the name to be the path to where the file is in my computer\n",
    "    file_name = os.path.join(os.path.abspath('voice')+'/'+str(files.file))\n",
    "\n",
    "    # Loads the audio file as a floating point time series and assigns the default sample rate\n",
    "    # Sample rate is set to 22050 by default\n",
    "    X, sample_rate = librosa.load(file_name, res_type='kaiser_fast') \n",
    "\n",
    "    # Generate Mel-frequency cepstral coefficients (MFCCs) from a time series \n",
    "    mfccs = np.mean(librosa.feature.mfcc(y=X, sr=sample_rate, n_mfcc=40).T,axis=0)\n",
    "\n",
    "    # Generates a Short-time Fourier transform (STFT) to use in the chroma_stft\n",
    "    stft = np.abs(librosa.stft(X))\n",
    "\n",
    "    # Computes a chromagram from a waveform or power spectrogram.\n",
    "    chroma = np.mean(librosa.feature.chroma_stft(S=stft, sr=sample_rate).T,axis=0)\n",
    "\n",
    "    # Computes a mel-scaled spectrogram.\n",
    "    mel = np.mean(librosa.feature.melspectrogram(X, sr=sample_rate).T,axis=0)\n",
    "\n",
    "    # Computes spectral contrast\n",
    "    contrast = np.mean(librosa.feature.spectral_contrast(S=stft, sr=sample_rate).T,axis=0)\n",
    "\n",
    "    # Computes the tonal centroid features (tonnetz)\n",
    "    tonnetz = np.mean(librosa.feature.tonnetz(y=librosa.effects.harmonic(X),\n",
    "    sr=sample_rate).T,axis=0)\n",
    "        \n",
    "    \n",
    "    # We add also the classes of each file as a label at the end\n",
    "    label = files.label\n",
    "\n",
    "    return mfccs, chroma, mel, contrast, tonnetz, label"
   ]
  },
  {
   "cell_type": "code",
   "execution_count": 61,
   "metadata": {},
   "outputs": [],
   "source": [
    "# Code to start the timer to see how long it takes to extract the features\n",
    "startTime = datetime.now()"
   ]
  },
  {
   "cell_type": "code",
   "execution_count": 129,
   "metadata": {},
   "outputs": [
    {
     "name": "stderr",
     "output_type": "stream",
     "text": [
      "/Users/jurgenarias/anaconda3/envs/dsi/lib/python3.7/site-packages/librosa/core/pitch.py:146: UserWarning: Trying to estimate tuning from empty frequency set.\n",
      "  warnings.warn('Trying to estimate tuning from empty frequency set.')\n"
     ]
    }
   ],
   "source": [
    "# Applying the function to the train data by accessing each row of the dataframe\n",
    "features_label = df.apply(extract_features, axis=1)"
   ]
  },
  {
   "cell_type": "code",
   "execution_count": 130,
   "metadata": {},
   "outputs": [
    {
     "name": "stdout",
     "output_type": "stream",
     "text": [
      "2:53:17.949280\n"
     ]
    }
   ],
   "source": [
    "# Code to see how long it took\n",
    "print(datetime.now() - startTime)"
   ]
  },
  {
   "cell_type": "code",
   "execution_count": 33,
   "metadata": {},
   "outputs": [
    {
     "data": {
      "text/plain": [
       "array([(array([-366.63562   ,   96.04874   ,  -69.84662   ,   76.36943   ,\n",
       "        -24.817017  ,   14.41616   ,    4.2905197 ,   -1.8795805 ,\n",
       "         13.70058   ,    3.6543803 ,    8.991205  ,   -3.1601498 ,\n",
       "          5.1049666 ,    2.6289887 ,    1.0638338 ,   -3.784181  ,\n",
       "          1.1059349 ,    1.8543453 ,    2.2196708 ,    3.0452476 ,\n",
       "          2.9182453 ,    4.099081  ,    0.39878955,    5.7587442 ,\n",
       "          0.7864756 ,    3.3036218 ,    1.7996112 ,   -0.8484667 ,\n",
       "          3.3366387 ,    2.934917  ,    2.9008343 ,    0.5252678 ,\n",
       "          2.3906317 ,    1.9600887 ,    2.8523176 ,    3.2463658 ,\n",
       "          3.8902597 ,    4.625333  ,    3.8027694 ,    5.2710724 ],\n",
       "      dtype=float32), array([0.55214745, 0.5712805 , 0.598977  , 0.60294086, 0.61977226,\n",
       "       0.6546082 , 0.64055675, 0.62010676, 0.586103  , 0.58701015,\n",
       "       0.6026565 , 0.5885016 ], dtype=float32), array([7.36393154e-01, 2.26960018e-01, 1.12153115e-02, 6.72356132e-03,\n",
       "       1.60283357e-01, 1.04996264e+00, 1.69271612e+00, 1.51260221e+00,\n",
       "       6.70031786e-01, 7.77193159e-02, 9.06617045e-02, 1.75315887e-01,\n",
       "       4.45169151e-01, 4.26027209e-01, 3.44188660e-01, 3.02109897e-01,\n",
       "       2.92879671e-01, 3.04482281e-01, 1.36124685e-01, 2.27442175e-01,\n",
       "       2.50024676e-01, 1.74414232e-01, 2.13230938e-01, 1.41726628e-01,\n",
       "       2.41585061e-01, 3.22785288e-01, 2.98365116e-01, 1.89172059e-01,\n",
       "       1.34754032e-01, 3.17638576e-01, 1.97704405e-01, 1.35105684e-01,\n",
       "       2.19430730e-01, 1.44752666e-01, 8.50184634e-02, 5.09311110e-02,\n",
       "       6.58019930e-02, 1.15728281e-01, 9.10342038e-02, 7.85010532e-02,\n",
       "       2.56981738e-02, 2.67956294e-02, 3.66868228e-02, 5.10502160e-02,\n",
       "       7.88843855e-02, 4.09643129e-02, 2.19151583e-02, 1.39991287e-02,\n",
       "       1.58330221e-02, 2.10909341e-02, 3.40278633e-02, 2.59628408e-02,\n",
       "       1.91887300e-02, 2.31814981e-02, 3.32052968e-02, 4.74756137e-02,\n",
       "       3.55099402e-02, 3.63404602e-02, 2.60921139e-02, 6.48061633e-02,\n",
       "       5.34315892e-02, 4.20552716e-02, 6.34406433e-02, 4.86457162e-02,\n",
       "       5.94084635e-02, 3.03471535e-02, 3.37635688e-02, 2.64143944e-02,\n",
       "       4.54775840e-02, 6.88221529e-02, 6.01135604e-02, 3.86072025e-02,\n",
       "       8.90069082e-02, 7.81564713e-02, 8.62824842e-02, 9.77552086e-02,\n",
       "       1.20321050e-01, 1.55992091e-01, 1.82784796e-01, 1.23282515e-01,\n",
       "       1.14377715e-01, 8.78297687e-02, 8.18230137e-02, 1.21182926e-01,\n",
       "       8.47864598e-02, 7.54506588e-02, 7.44194612e-02, 9.79388729e-02,\n",
       "       1.86049551e-01, 8.94172341e-02, 8.36229250e-02, 1.04077712e-01,\n",
       "       8.41716453e-02, 1.30368516e-01, 7.69464523e-02, 5.18603511e-02,\n",
       "       1.59405813e-01, 1.24601379e-01, 9.36513096e-02, 6.20439351e-02,\n",
       "       5.51076010e-02, 5.17743006e-02, 8.11051428e-02, 8.40541199e-02,\n",
       "       6.40072748e-02, 4.62091565e-02, 2.96751168e-02, 1.51876984e-02,\n",
       "       1.02534117e-02, 7.85927474e-03, 5.14092203e-03, 3.08627938e-03,\n",
       "       1.10633846e-03, 2.67842173e-04, 2.54571260e-05, 1.35632877e-06,\n",
       "       2.68283102e-08, 2.43970705e-10, 1.09221389e-10, 2.12689061e-10,\n",
       "       3.03250591e-10, 2.78295109e-10, 2.83268936e-10, 3.29108629e-10,\n",
       "       4.85837315e-10, 4.65975258e-10, 4.27477165e-10, 4.49419169e-10],\n",
       "      dtype=float32), array([21.80623092, 16.57882657, 17.61829735, 16.63343419, 17.96622373,\n",
       "       23.20961587, 41.62188849]), array([-0.00775333,  0.05804255, -0.05668859,  0.0528246 ,  0.01333635,\n",
       "        0.01987121]), '0'),\n",
       "       (array([-3.55854095e+02,  1.29191193e+02, -4.75625229e+00,  3.58016968e+01,\n",
       "       -9.30313969e+00,  1.61376801e+01,  2.40878081e+00,  4.80019617e+00,\n",
       "        5.52448130e+00,  1.57744968e+00,  1.31083851e+01,  3.19543481e-01,\n",
       "        1.02545395e+01,  6.14014053e+00,  8.38334942e+00,  6.09201241e+00,\n",
       "        3.77046704e+00,  9.91054535e+00,  1.30088019e+00,  4.70926332e+00,\n",
       "        6.09016609e+00,  3.82460284e+00,  4.78057814e+00,  5.99890232e+00,\n",
       "        5.77824163e+00,  6.05726385e+00,  6.61047411e+00,  4.79502487e+00,\n",
       "        5.28376436e+00,  6.59302139e+00,  6.43518829e+00,  4.61842823e+00,\n",
       "        5.22661781e+00,  5.28636599e+00,  4.89325428e+00,  4.01173592e+00,\n",
       "        4.16280699e+00,  5.87665796e+00,  5.48791170e+00,  6.19116020e+00],\n",
       "      dtype=float32), array([0.6529751 , 0.62583673, 0.58405334, 0.5941451 , 0.6013008 ,\n",
       "       0.63462126, 0.6179007 , 0.60305357, 0.5964033 , 0.5832112 ,\n",
       "       0.5888292 , 0.6195212 ], dtype=float32), array([5.71448669e+01, 7.18029857e-01, 3.61367494e-01, 9.57203656e-02,\n",
       "       6.95282280e-01, 2.10292459e+00, 3.70952821e+00, 3.27486634e+00,\n",
       "       3.53932571e+00, 3.74257326e+00, 1.86857998e+00, 8.61023962e-01,\n",
       "       2.20225954e+00, 3.86125350e+00, 4.27416658e+00, 3.36427665e+00,\n",
       "       2.42589045e+00, 2.68731618e+00, 3.13212156e+00, 6.99795675e+00,\n",
       "       5.90054083e+00, 2.71698475e+00, 2.49354696e+00, 2.74108267e+00,\n",
       "       3.43768978e+00, 4.35871506e+00, 3.08943915e+00, 1.74253690e+00,\n",
       "       1.92715538e+00, 2.45718336e+00, 2.95072842e+00, 3.07961679e+00,\n",
       "       1.84860301e+00, 1.79859376e+00, 2.33011389e+00, 1.74146843e+00,\n",
       "       1.08711922e+00, 8.87478292e-01, 8.04231107e-01, 8.36027741e-01,\n",
       "       7.98207343e-01, 9.88516748e-01, 5.94237626e-01, 4.78078008e-01,\n",
       "       4.27159846e-01, 6.15687132e-01, 5.97551465e-01, 4.90811020e-01,\n",
       "       4.63608652e-01, 4.89142358e-01, 3.87906641e-01, 3.31741095e-01,\n",
       "       3.30134958e-01, 2.71562874e-01, 2.30566844e-01, 1.83425143e-01,\n",
       "       1.35881856e-01, 1.43455133e-01, 1.73270270e-01, 1.85169235e-01,\n",
       "       1.92945272e-01, 1.62908167e-01, 1.69680774e-01, 1.19921312e-01,\n",
       "       7.28821605e-02, 7.10463449e-02, 5.52978180e-02, 6.09921701e-02,\n",
       "       5.77380918e-02, 4.81841341e-02, 4.23179530e-02, 6.46384209e-02,\n",
       "       6.34863004e-02, 7.21049458e-02, 6.37366846e-02, 7.95510858e-02,\n",
       "       1.00934707e-01, 7.43798688e-02, 4.86522950e-02, 2.78143380e-02,\n",
       "       1.74300447e-02, 1.33562777e-02, 1.14201847e-02, 7.64369546e-03,\n",
       "       8.40191171e-03, 9.50339250e-03, 1.36665925e-02, 1.31641906e-02,\n",
       "       1.43887550e-02, 1.55088855e-02, 1.03047155e-02, 6.05222583e-03,\n",
       "       4.91271727e-03, 3.31730675e-03, 2.95614288e-03, 3.10053001e-03,\n",
       "       4.30098129e-03, 6.05043396e-03, 5.16911224e-03, 6.93122344e-03,\n",
       "       9.74776875e-03, 1.19696073e-02, 9.89720970e-03, 8.84126779e-03,\n",
       "       6.63263956e-03, 6.00962806e-03, 4.03462863e-03, 2.39147898e-03,\n",
       "       1.32274465e-03, 7.54148525e-04, 3.27734480e-04, 1.35567549e-04,\n",
       "       4.95352142e-05, 1.53688652e-05, 3.66640165e-06, 1.18747744e-06,\n",
       "       8.54810025e-07, 7.54869973e-07, 6.81816687e-07, 6.24078268e-07,\n",
       "       5.76689501e-07, 5.39200016e-07, 5.07896857e-07, 4.82572716e-07,\n",
       "       4.63610405e-07, 4.47543670e-07, 4.36682996e-07, 4.30055479e-07],\n",
       "      dtype=float32), array([33.86358379, 16.85411413, 17.85251471, 17.06660929, 17.49304141,\n",
       "       17.52497846, 41.50533225]), array([-0.00755421, -0.02632033,  0.18599739, -0.03611882, -0.03376636,\n",
       "       -0.0343907 ]), '0'),\n",
       "       (array([-3.19532562e+02,  1.03086426e+02, -2.59326229e+01,  3.65111618e+01,\n",
       "       -2.70922146e+01,  1.15332069e+01, -3.77843285e+01,  9.43436623e-01,\n",
       "       -1.06445446e+01, -1.46205635e+01, -2.98313594e+00, -2.14018421e+01,\n",
       "        4.33042002e+00, -1.67402096e+01, -5.43921471e-01, -8.36869335e+00,\n",
       "       -1.23566713e+01, -1.85641289e+00, -1.14369125e+01, -1.06691790e+01,\n",
       "       -8.62458801e+00, -7.09277964e+00, -1.08761568e+01, -5.28783226e+00,\n",
       "       -7.36806536e+00, -4.69371080e+00, -6.52793550e+00, -4.79655075e+00,\n",
       "       -6.14509296e+00, -8.30276871e+00, -3.28357315e+00, -5.75633812e+00,\n",
       "       -3.72945890e-02, -1.06720281e+00,  2.69401193e+00,  3.13127375e+00,\n",
       "        6.74954593e-01,  1.40143108e+00, -2.17464507e-01,  1.71465957e+00],\n",
       "      dtype=float32), array([0.49751914, 0.47689056, 0.51726735, 0.5185714 , 0.55003136,\n",
       "       0.56626266, 0.58112866, 0.59176016, 0.546956  , 0.50167   ,\n",
       "       0.49216473, 0.51242363], dtype=float32), array([6.70935551e-04, 1.26373097e-02, 1.11596286e-01, 1.33316994e-01,\n",
       "       9.58724737e-01, 5.33941031e+00, 9.69423866e+00, 9.16014671e+00,\n",
       "       2.27766657e+00, 4.06589985e+00, 1.26329482e+00, 1.89527988e+00,\n",
       "       3.86567259e+00, 3.79409671e+00, 5.72238159e+00, 3.33559561e+00,\n",
       "       1.97084594e+00, 2.42962074e+00, 5.02944946e+00, 9.42396545e+00,\n",
       "       3.53202128e+00, 4.12869406e+00, 5.55844498e+00, 2.59051323e+00,\n",
       "       1.91753983e+00, 1.20482910e+00, 5.88887930e-01, 6.61571741e-01,\n",
       "       1.57209849e+00, 2.88428593e+00, 3.21328545e+00, 2.05040145e+00,\n",
       "       6.29458308e-01, 2.46476799e-01, 2.32590750e-01, 5.11195719e-01,\n",
       "       4.63244915e-01, 4.06920284e-01, 3.96464854e-01, 2.36677140e-01,\n",
       "       7.26277009e-02, 6.75654635e-02, 9.56329927e-02, 1.37966365e-01,\n",
       "       1.15122296e-01, 1.00963116e-01, 6.30817339e-02, 5.31537235e-02,\n",
       "       7.85638690e-02, 4.93518561e-02, 6.14760406e-02, 8.88824761e-02,\n",
       "       9.02953222e-02, 8.59478489e-02, 1.02614611e-01, 1.03312500e-01,\n",
       "       8.35174024e-02, 6.97289035e-02, 7.03231469e-02, 1.17225580e-01,\n",
       "       1.76309660e-01, 1.09916635e-01, 6.91812783e-02, 6.75691888e-02,\n",
       "       7.77431279e-02, 1.14187136e-01, 6.64700344e-02, 4.10867520e-02,\n",
       "       4.62965295e-02, 3.57037857e-02, 3.49641405e-02, 3.58313583e-02,\n",
       "       3.54200527e-02, 3.94214466e-02, 4.05537114e-02, 2.88771205e-02,\n",
       "       3.21223848e-02, 2.22239662e-02, 2.12012846e-02, 1.84677429e-02,\n",
       "       1.51847471e-02, 1.80638749e-02, 2.08517537e-02, 2.07516849e-02,\n",
       "       2.17776597e-02, 2.86019146e-02, 3.86080407e-02, 6.18072376e-02,\n",
       "       8.06613117e-02, 6.44919723e-02, 6.28819317e-02, 5.63061684e-02,\n",
       "       4.02191691e-02, 4.89024706e-02, 6.58629984e-02, 6.74896017e-02,\n",
       "       7.42796063e-02, 9.22115892e-02, 9.40988213e-02, 1.17399290e-01,\n",
       "       1.60956606e-01, 1.83884516e-01, 1.99787736e-01, 1.77059531e-01,\n",
       "       2.03509703e-01, 1.83791474e-01, 1.48209274e-01, 1.09324120e-01,\n",
       "       7.76598677e-02, 4.82775494e-02, 2.44193580e-02, 1.19988108e-02,\n",
       "       4.80775209e-03, 1.19299558e-03, 1.72733693e-04, 1.53320252e-05,\n",
       "       6.38362053e-07, 4.74916551e-09, 7.88378030e-10, 8.64265604e-10,\n",
       "       7.74355025e-10, 1.30130562e-09, 9.76084991e-10, 1.78831239e-09,\n",
       "       1.30227440e-09, 1.87066340e-09, 1.23243460e-09, 1.23345889e-09],\n",
       "      dtype=float32), array([29.00816877, 16.8344236 , 19.36875095, 18.38415921, 20.31537533,\n",
       "       20.92946278, 47.23099937]), array([ 0.00404203,  0.00561238,  0.0252126 ,  0.00667481, -0.0021204 ,\n",
       "       -0.00191143]), '0'),\n",
       "       ...,\n",
       "       (array([-3.3732944e+02,  8.9357849e+01, -4.5532562e+01,  6.4819923e+01,\n",
       "       -2.5884607e+01,  1.4253494e+01, -6.8487835e+00,  2.7022614e+00,\n",
       "        6.8325906e+00, -1.4472319e+00,  4.7454381e+00, -8.7600794e+00,\n",
       "        1.1646633e+01, -5.7459688e+00, -1.5504742e+00, -3.0769601e+00,\n",
       "       -1.6392387e+00,  2.8379064e+00, -4.3915105e+00,  2.4829745e+00,\n",
       "       -2.6000922e+00,  9.0696737e-02,  1.0527173e+00,  4.6695191e-01,\n",
       "       -6.7760074e-01,  7.6745349e-01,  1.0853801e+00,  1.1194038e+00,\n",
       "        3.5192363e+00,  1.4945235e+00,  3.5877032e+00,  4.0750012e+00,\n",
       "        3.4624851e+00,  2.1357887e+00,  2.8453321e+00,  2.7579365e+00,\n",
       "        3.5842457e+00,  4.2982769e+00,  4.1568360e+00,  6.5786471e+00],\n",
       "      dtype=float32), array([0.62037075, 0.55563384, 0.51911855, 0.53703725, 0.6135875 ,\n",
       "       0.67648005, 0.649604  , 0.66941303, 0.6746307 , 0.6341397 ,\n",
       "       0.60467964, 0.6159283 ], dtype=float32), array([6.48236930e-01, 2.24584028e-01, 3.69663797e-02, 6.43378589e-03,\n",
       "       2.16493346e-02, 5.01478791e-01, 1.31984580e+00, 1.55567014e+00,\n",
       "       1.42792475e+00, 4.02373731e-01, 1.45040214e-01, 2.17762068e-01,\n",
       "       4.30187434e-01, 2.51474857e-01, 2.20810935e-01, 3.11875492e-01,\n",
       "       5.63444912e-01, 1.09945583e+00, 4.57507610e-01, 4.35741246e-01,\n",
       "       2.15932116e-01, 2.17011973e-01, 2.90984362e-01, 5.37399709e-01,\n",
       "       7.69556284e-01, 9.87124085e-01, 8.91937971e-01, 5.70704043e-01,\n",
       "       6.74386322e-01, 8.71792793e-01, 8.26558113e-01, 4.90969926e-01,\n",
       "       2.54151583e-01, 8.68404657e-02, 9.30236056e-02, 1.87191337e-01,\n",
       "       6.06391549e-01, 8.02080572e-01, 7.28398025e-01, 5.39872587e-01,\n",
       "       9.60653722e-02, 5.48888035e-02, 1.60074443e-01, 1.31084129e-01,\n",
       "       1.55579895e-01, 1.49944544e-01, 7.63677657e-02, 2.27728888e-01,\n",
       "       5.12263119e-01, 1.83500633e-01, 4.14854139e-02, 2.33870745e-02,\n",
       "       2.17991117e-02, 2.69632861e-02, 8.72309431e-02, 7.67310336e-02,\n",
       "       5.50235175e-02, 9.51941609e-02, 1.58791423e-01, 9.76055712e-02,\n",
       "       8.03640410e-02, 7.72048682e-02, 6.49890155e-02, 6.17610514e-02,\n",
       "       9.71693993e-02, 1.11502163e-01, 1.22461103e-01, 7.14774430e-02,\n",
       "       5.21131791e-02, 8.32036138e-02, 1.13610305e-01, 9.11385566e-02,\n",
       "       8.47423747e-02, 8.14035833e-02, 7.33798668e-02, 5.14081381e-02,\n",
       "       6.90242946e-02, 6.24888055e-02, 7.43653253e-02, 9.77475569e-02,\n",
       "       1.45481348e-01, 1.46611080e-01, 1.61700994e-01, 1.78324640e-01,\n",
       "       9.09407809e-02, 8.76081139e-02, 1.08645983e-01, 1.29870370e-01,\n",
       "       9.50908363e-02, 5.70219196e-02, 7.69463032e-02, 7.06918985e-02,\n",
       "       5.35726771e-02, 4.39810157e-02, 3.57208364e-02, 2.51726657e-02,\n",
       "       2.43455302e-02, 2.15810835e-02, 2.67545264e-02, 3.03609073e-02,\n",
       "       4.38238978e-02, 4.57202867e-02, 4.89299782e-02, 3.58746313e-02,\n",
       "       4.20630686e-02, 4.55735289e-02, 3.48939076e-02, 2.37537995e-02,\n",
       "       1.61059424e-02, 9.68197174e-03, 3.39869293e-03, 1.89610850e-03,\n",
       "       6.80853729e-04, 1.02856720e-04, 1.67747276e-05, 1.30828255e-06,\n",
       "       6.58173533e-08, 8.04443512e-10, 3.18320925e-10, 3.36736583e-10,\n",
       "       3.35655892e-10, 5.21726606e-10, 5.79258141e-10, 5.41147571e-10,\n",
       "       5.00397168e-10, 4.98578290e-10, 4.09529466e-10, 4.12835571e-10],\n",
       "      dtype=float32), array([17.03900659, 16.58907318, 18.266841  , 17.13336171, 17.63739561,\n",
       "       19.03045877, 45.87748622]), array([-0.00113673,  0.02063728, -0.00704007,  0.04751032,  0.01281252,\n",
       "        0.00894263]), '0'),\n",
       "       (array([-3.8059921e+02,  1.0811871e+02, -2.6819942e+01,  2.7901894e+01,\n",
       "       -6.0866914e+00, -1.2198951e+01, -1.9104620e+01, -2.1438213e+01,\n",
       "       -1.4194114e+01, -1.6643179e+01, -1.3519686e+01, -1.3664565e+01,\n",
       "       -1.5530288e+01, -1.1992935e+01, -3.7198334e+00, -1.2380564e+01,\n",
       "       -6.8451223e+00, -3.4417791e+00, -9.5934505e+00, -7.7862258e+00,\n",
       "       -8.9563761e+00, -8.4065876e+00, -1.1191061e+01, -8.4872017e+00,\n",
       "       -7.5312819e+00, -7.4932871e+00, -6.0571351e+00, -7.4510193e+00,\n",
       "       -5.2076993e+00, -3.2058692e+00, -1.4863350e+00, -2.3467488e+00,\n",
       "       -5.4135627e-01, -1.8723136e+00, -5.8905368e+00, -2.9087505e+00,\n",
       "       -1.4661586e+00, -1.0096334e-01,  2.1565251e+00,  1.2774972e+00],\n",
       "      dtype=float32), array([0.49981317, 0.46940407, 0.48128188, 0.5590752 , 0.6354059 ,\n",
       "       0.6190187 , 0.5760298 , 0.5903856 , 0.6063182 , 0.5607464 ,\n",
       "       0.57369465, 0.57296115], dtype=float32), array([2.12797499e-03, 9.13401134e-04, 2.76179373e-04, 1.03250071e-02,\n",
       "       1.19403683e-01, 1.04357839e+00, 3.61725235e+00, 2.14204240e+00,\n",
       "       2.24807930e+00, 2.11358595e+00, 3.41698313e+00, 4.06393290e+00,\n",
       "       3.49545288e+00, 1.85555077e+00, 4.72014999e+00, 1.05049314e+01,\n",
       "       5.94845343e+00, 4.03863478e+00, 2.60596490e+00, 1.52826107e+00,\n",
       "       3.85668278e-01, 3.61554921e-01, 5.20659208e-01, 1.50711358e+00,\n",
       "       1.84586799e+00, 1.75251579e+00, 1.73990452e+00, 1.16975284e+00,\n",
       "       4.23672557e-01, 4.44055706e-01, 3.82678688e-01, 4.69823778e-01,\n",
       "       4.35277939e-01, 2.76478201e-01, 1.84635282e-01, 1.43064454e-01,\n",
       "       2.60345995e-01, 2.46530086e-01, 6.48975894e-02, 8.23727548e-02,\n",
       "       2.65937001e-01, 2.59498119e-01, 1.27931327e-01, 7.07043186e-02,\n",
       "       1.72381714e-01, 3.04758698e-01, 9.99807790e-02, 9.64268595e-02,\n",
       "       1.29819974e-01, 2.27069736e-01, 3.45384270e-01, 3.09092551e-01,\n",
       "       3.30035836e-01, 3.07818055e-01, 2.02994585e-01, 1.00412615e-01,\n",
       "       1.04132235e-01, 1.43223882e-01, 1.54265359e-01, 9.21084806e-02,\n",
       "       7.92243779e-02, 1.12521663e-01, 1.04397550e-01, 6.36609048e-02,\n",
       "       3.64452377e-02, 2.29121316e-02, 3.58612984e-02, 1.87681206e-02,\n",
       "       2.12821830e-02, 3.07877269e-02, 3.46026495e-02, 2.92177200e-02,\n",
       "       2.94422675e-02, 2.49230508e-02, 2.39351317e-02, 2.74300948e-02,\n",
       "       2.53951475e-02, 1.93231907e-02, 9.84859932e-03, 1.30685996e-02,\n",
       "       1.51612395e-02, 4.40593483e-03, 2.41546612e-03, 2.60249060e-03,\n",
       "       3.16605205e-03, 3.82745452e-03, 7.06158066e-03, 1.19016301e-02,\n",
       "       1.49534056e-02, 9.49814636e-03, 5.66386664e-03, 7.89386965e-03,\n",
       "       5.29343821e-03, 5.13138622e-03, 5.31921303e-03, 1.29111167e-02,\n",
       "       5.55330189e-03, 2.00502407e-02, 1.13654304e-02, 1.17892316e-02,\n",
       "       7.51547422e-03, 6.34622900e-03, 6.32955786e-03, 2.21391604e-03,\n",
       "       1.45063153e-03, 1.23635051e-03, 1.11275248e-03, 8.90777446e-04,\n",
       "       6.84836239e-04, 3.96037853e-04, 1.77280701e-04, 8.51590958e-05,\n",
       "       3.93134360e-05, 1.21594740e-05, 3.04960372e-06, 2.67174926e-07,\n",
       "       6.12021145e-09, 1.71062275e-10, 1.64201708e-10, 1.41536408e-10,\n",
       "       1.04406102e-10, 1.87974553e-10, 1.96538244e-10, 5.22573429e-10,\n",
       "       1.90478078e-10, 5.74197745e-10, 4.85107399e-10, 2.20216165e-10],\n",
       "      dtype=float32), array([31.02215273, 17.19757867, 20.19802731, 16.47424339, 18.8432591 ,\n",
       "       20.66517278, 42.3083409 ]), array([ 0.00407524, -0.00340859,  0.02112481,  0.00932819, -0.01391203,\n",
       "       -0.00559887]), '0'),\n",
       "       (array([-2.9524078e+02,  1.1239600e+02, -5.8156876e+01,  6.9699570e+01,\n",
       "       -2.9060786e+00,  1.6217768e+01, -2.2719070e+01,  1.4730881e+01,\n",
       "       -1.4632815e+01, -1.2006983e+00,  1.4316953e+01, -1.4157916e+01,\n",
       "        1.1143796e+01, -1.0599554e+01,  1.1195478e+00, -7.9672098e+00,\n",
       "       -2.3161391e-02, -4.2216673e-01, -4.4367743e+00,  1.9195330e+00,\n",
       "       -5.3873191e+00,  5.1912325e-03, -4.9162230e+00,  2.7481709e+00,\n",
       "       -2.3387320e+00,  1.5864942e+00,  4.1421419e-01, -1.5777416e+00,\n",
       "        1.0608268e+00, -3.1496196e+00,  1.3695458e+00, -3.1615000e+00,\n",
       "       -2.1150179e+00, -2.2677658e+00, -5.0332928e-01, -1.4172268e+00,\n",
       "       -2.6612546e+00, -7.2490847e-01, -1.4951730e+00,  9.5685184e-01],\n",
       "      dtype=float32), array([0.63204986, 0.64343154, 0.6213556 , 0.65382457, 0.69352454,\n",
       "       0.7490483 , 0.7738662 , 0.76972395, 0.71100914, 0.64719653,\n",
       "       0.60690016, 0.5847486 ], dtype=float32), array([1.3911131e-01, 1.8576714e-01, 1.1753144e+00, 2.6502969e+00,\n",
       "       2.2605591e+00, 2.5681572e+00, 2.3364825e+00, 4.4365010e+00,\n",
       "       2.9164460e+00, 2.6554308e+00, 2.2617567e+00, 1.5989528e+00,\n",
       "       1.8802977e+00, 2.1311743e+00, 1.7257700e+00, 7.6734871e-01,\n",
       "       8.1608218e-01, 2.2449288e+00, 3.0425601e+00, 2.6478794e+00,\n",
       "       2.6043360e+00, 2.5937881e+00, 1.8089999e+00, 1.1595778e+00,\n",
       "       7.9900032e-01, 6.9528216e-01, 8.2977760e-01, 9.0434581e-01,\n",
       "       9.4840437e-01, 4.7472230e-01, 1.8211976e-01, 2.3609336e-01,\n",
       "       2.7288920e-01, 1.0981405e-01, 1.2129435e-01, 1.9637237e-01,\n",
       "       1.6703555e-01, 1.0639467e-01, 1.5113313e-01, 2.3923574e-01,\n",
       "       3.5820061e-01, 4.8036245e-01, 3.8442600e-01, 3.1021568e-01,\n",
       "       3.7986222e-01, 2.8052253e-01, 1.8239982e-01, 2.3616777e-01,\n",
       "       3.8272417e-01, 1.8361294e-01, 2.2030737e-01, 4.6594802e-01,\n",
       "       3.6122122e-01, 3.1655839e-01, 3.8723534e-01, 2.5647745e-01,\n",
       "       2.7521560e-01, 4.1685298e-01, 5.9075737e-01, 5.1270318e-01,\n",
       "       3.9026222e-01, 3.9103061e-01, 3.0452472e-01, 1.9997291e-01,\n",
       "       2.9850960e-01, 3.5913098e-01, 4.3975019e-01, 4.5125917e-01,\n",
       "       2.8724360e-01, 3.2201990e-01, 4.4945857e-01, 6.1575609e-01,\n",
       "       5.4080611e-01, 5.6742090e-01, 1.0904932e+00, 1.1542982e+00,\n",
       "       8.6933267e-01, 7.1353769e-01, 5.9930724e-01, 6.8436331e-01,\n",
       "       6.0352021e-01, 4.7550279e-01, 3.5361329e-01, 2.0419981e-01,\n",
       "       1.4395399e-01, 6.6364020e-02, 4.3441869e-02, 3.2397468e-02,\n",
       "       3.1312246e-02, 3.6987431e-02, 4.7823116e-02, 5.9617873e-02,\n",
       "       8.7428309e-02, 7.1946219e-02, 4.0637042e-02, 2.7213594e-02,\n",
       "       2.5384003e-02, 3.6276545e-02, 4.5381978e-02, 5.1166702e-02,\n",
       "       3.6380332e-02, 2.7981481e-02, 2.8414372e-02, 3.2749362e-02,\n",
       "       4.1382801e-02, 3.0070221e-02, 3.8189128e-02, 5.2317694e-02,\n",
       "       5.3953938e-02, 3.2986682e-02, 1.7773999e-02, 1.1667424e-02,\n",
       "       3.2375692e-03, 9.3292375e-04, 1.4766755e-04, 1.1662460e-05,\n",
       "       4.1547526e-07, 3.4449064e-09, 6.5037442e-10, 1.5214685e-09,\n",
       "       1.5442607e-09, 1.0655623e-09, 9.0340446e-10, 1.0388552e-09,\n",
       "       5.4651766e-10, 7.9611889e-10, 5.4420002e-10, 4.1340595e-10],\n",
       "      dtype=float32), array([17.21134739, 14.90090215, 15.33881745, 14.91024361, 17.14957942,\n",
       "       20.62313665, 47.27996877]), array([-0.00150126,  0.01245819, -0.02379832,  0.02212385,  0.00426225,\n",
       "        0.0019133 ]), '1')], dtype=object)"
      ]
     },
     "execution_count": 33,
     "metadata": {},
     "output_type": "execute_result"
    }
   ],
   "source": [
    "# Checking how the output looks\n",
    "features_label"
   ]
  },
  {
   "cell_type": "code",
   "execution_count": 132,
   "metadata": {},
   "outputs": [],
   "source": [
    "# Saving the numpy array because it takes a long time to extract the features\n",
    "np.save('features_label', features_label)"
   ]
  },
  {
   "cell_type": "code",
   "execution_count": 25,
   "metadata": {},
   "outputs": [],
   "source": [
    "# loading the features\n",
    "features_label = np.load('features_label.npy', allow_pickle=True)"
   ]
  },
  {
   "cell_type": "code",
   "execution_count": 62,
   "metadata": {
    "scrolled": true
   },
   "outputs": [],
   "source": [
    "# We create an empty list where we will concatenate all the features into one long feature\n",
    "# for each file to feed into our neural network \n",
    "\n",
    "features = []\n",
    "for i in range(0, len(features_label)):\n",
    "    features.append(np.concatenate((features_label[i][0], features_label[i][1], \n",
    "                features_label[i][2], features_label[i][3],\n",
    "                features_label[i][4]), axis=0))"
   ]
  },
  {
   "cell_type": "code",
   "execution_count": 63,
   "metadata": {},
   "outputs": [
    {
     "data": {
      "text/plain": [
       "13125"
      ]
     },
     "execution_count": 63,
     "metadata": {},
     "output_type": "execute_result"
    }
   ],
   "source": [
    "len(features)"
   ]
  },
  {
   "cell_type": "code",
   "execution_count": 64,
   "metadata": {},
   "outputs": [],
   "source": [
    "# Similarly, we create a list where we will store all the labels\n",
    "\n",
    "labels = []\n",
    "for i in range(0, len(features_label)):\n",
    "    labels.append(features_label[i][5])"
   ]
  },
  {
   "cell_type": "code",
   "execution_count": 65,
   "metadata": {},
   "outputs": [
    {
     "data": {
      "text/plain": [
       "13125"
      ]
     },
     "execution_count": 65,
     "metadata": {},
     "output_type": "execute_result"
    }
   ],
   "source": [
    "len(labels)"
   ]
  },
  {
   "cell_type": "markdown",
   "metadata": {},
   "source": [
    "#### Checking if we have balanced classes for the whole data"
   ]
  },
  {
   "cell_type": "code",
   "execution_count": 66,
   "metadata": {},
   "outputs": [
    {
     "data": {
      "text/plain": [
       "(array(['0', '1'], dtype='<U1'), array([6570, 6555]))"
      ]
     },
     "execution_count": 66,
     "metadata": {},
     "output_type": "execute_result"
    }
   ],
   "source": [
    "np.unique(labels, return_counts=True)"
   ]
  },
  {
   "cell_type": "markdown",
   "metadata": {},
   "source": [
    "#### Hot encoding y and pre processing X and y"
   ]
  },
  {
   "cell_type": "code",
   "execution_count": 67,
   "metadata": {},
   "outputs": [],
   "source": [
    "# Setting our X as a numpy array to feed into the neural network\n",
    "X = np.array(features)"
   ]
  },
  {
   "cell_type": "code",
   "execution_count": 68,
   "metadata": {},
   "outputs": [],
   "source": [
    "# Setting our y\n",
    "y = np.array(labels)"
   ]
  },
  {
   "cell_type": "code",
   "execution_count": 69,
   "metadata": {},
   "outputs": [],
   "source": [
    "# Hot encoding y\n",
    "lb = LabelEncoder()\n",
    "y = to_categorical(lb.fit_transform(y))"
   ]
  },
  {
   "cell_type": "code",
   "execution_count": 70,
   "metadata": {},
   "outputs": [
    {
     "data": {
      "text/plain": [
       "(13125, 193)"
      ]
     },
     "execution_count": 70,
     "metadata": {},
     "output_type": "execute_result"
    }
   ],
   "source": [
    "# Checking our shapes\n",
    "X.shape"
   ]
  },
  {
   "cell_type": "code",
   "execution_count": 71,
   "metadata": {},
   "outputs": [
    {
     "data": {
      "text/plain": [
       "(13125, 2)"
      ]
     },
     "execution_count": 71,
     "metadata": {},
     "output_type": "execute_result"
    }
   ],
   "source": [
    "# Checking our shapes\n",
    "y.shape"
   ]
  },
  {
   "cell_type": "code",
   "execution_count": 72,
   "metadata": {},
   "outputs": [],
   "source": [
    "# Choosing the first 9188 (70%) files to be our train data\n",
    "# Choosing the next  2625 (20%) files to be our validation data\n",
    "# Choosing the next  1312 (10%) files to be our test never before seen data\n",
    "# This is analogous to a train test split but we add a validation split and we are making\n",
    "# we do not shuffle anything since we are dealing with several time series, we already \n",
    "# checked before that we have balanced classes (analogous to stratify)\n",
    "\n",
    "X_train = X[:9188]\n",
    "y_train = y[:9188]\n",
    "\n",
    "X_val = X[9188:11813]\n",
    "y_val = y[9188:11813]\n",
    "\n",
    "X_test = X[11813:]\n",
    "y_test = y[11813:]"
   ]
  },
  {
   "cell_type": "markdown",
   "metadata": {},
   "source": [
    "Scaling our data"
   ]
  },
  {
   "cell_type": "code",
   "execution_count": 73,
   "metadata": {},
   "outputs": [],
   "source": [
    "ss = StandardScaler()\n",
    "X_train = ss.fit_transform(X_train)\n",
    "X_val = ss.transform(X_val)\n",
    "X_test = ss.transform(X_test)"
   ]
  },
  {
   "cell_type": "markdown",
   "metadata": {},
   "source": [
    "#### Building the neural network"
   ]
  },
  {
   "cell_type": "code",
   "execution_count": 74,
   "metadata": {},
   "outputs": [],
   "source": [
    "# Build a simple dense model with early stopping with softmax for categorical classification\n",
    "# Note that we use softmax for binary classification because it gives us a better result\n",
    "# than sigmoid for our probabilities in case we decide to use a voting classifier \n",
    "\n",
    "model = Sequential()\n",
    "\n",
    "model.add(Dense(193, input_shape=(193,), activation = 'relu'))\n",
    "model.add(Dropout(0.1))\n",
    "\n",
    "model.add(Dense(128, activation = 'relu'))\n",
    "model.add(Dropout(0.25))  \n",
    "\n",
    "model.add(Dense(128, activation = 'relu'))\n",
    "model.add(Dropout(0.5))    \n",
    "\n",
    "model.add(Dense(2, activation = 'softmax'))\n",
    "\n",
    "model.compile(loss='categorical_crossentropy', metrics=['accuracy'], optimizer='adam')\n",
    "\n",
    "early_stop = EarlyStopping(monitor='val_loss', min_delta=0, patience=100, verbose=1, mode='auto')"
   ]
  },
  {
   "cell_type": "code",
   "execution_count": 75,
   "metadata": {},
   "outputs": [
    {
     "name": "stdout",
     "output_type": "stream",
     "text": [
      "Train on 9188 samples, validate on 2625 samples\n",
      "Epoch 1/100\n",
      "9188/9188 [==============================] - 1s 88us/sample - loss: 0.2857 - accuracy: 0.8851 - val_loss: 0.0945 - val_accuracy: 0.9661\n",
      "Epoch 2/100\n",
      "9188/9188 [==============================] - 0s 18us/sample - loss: 0.0858 - accuracy: 0.9720 - val_loss: 0.0461 - val_accuracy: 0.9855\n",
      "Epoch 3/100\n",
      "9188/9188 [==============================] - 0s 18us/sample - loss: 0.0427 - accuracy: 0.9863 - val_loss: 0.0293 - val_accuracy: 0.9920\n",
      "Epoch 4/100\n",
      "9188/9188 [==============================] - 0s 18us/sample - loss: 0.0306 - accuracy: 0.9912 - val_loss: 0.0237 - val_accuracy: 0.9935\n",
      "Epoch 5/100\n",
      "9188/9188 [==============================] - 0s 17us/sample - loss: 0.0188 - accuracy: 0.9931 - val_loss: 0.0223 - val_accuracy: 0.9928\n",
      "Epoch 6/100\n",
      "9188/9188 [==============================] - 0s 16us/sample - loss: 0.0143 - accuracy: 0.9956 - val_loss: 0.0339 - val_accuracy: 0.9909\n",
      "Epoch 7/100\n",
      "9188/9188 [==============================] - 0s 18us/sample - loss: 0.0181 - accuracy: 0.9951 - val_loss: 0.0234 - val_accuracy: 0.9931\n",
      "Epoch 8/100\n",
      "9188/9188 [==============================] - 0s 19us/sample - loss: 0.0086 - accuracy: 0.9966 - val_loss: 0.0229 - val_accuracy: 0.9939\n",
      "Epoch 9/100\n",
      "9188/9188 [==============================] - 0s 16us/sample - loss: 0.0093 - accuracy: 0.9981 - val_loss: 0.0223 - val_accuracy: 0.9935\n",
      "Epoch 10/100\n",
      "9188/9188 [==============================] - 0s 16us/sample - loss: 0.0050 - accuracy: 0.9983 - val_loss: 0.0203 - val_accuracy: 0.9950\n",
      "Epoch 11/100\n",
      "9188/9188 [==============================] - 0s 17us/sample - loss: 0.0045 - accuracy: 0.9987 - val_loss: 0.0191 - val_accuracy: 0.9935\n",
      "Epoch 12/100\n",
      "9188/9188 [==============================] - 0s 16us/sample - loss: 0.0080 - accuracy: 0.9978 - val_loss: 0.0273 - val_accuracy: 0.9928\n",
      "Epoch 13/100\n",
      "9188/9188 [==============================] - 0s 16us/sample - loss: 0.0080 - accuracy: 0.9975 - val_loss: 0.0211 - val_accuracy: 0.9935\n",
      "Epoch 14/100\n",
      "9188/9188 [==============================] - 0s 16us/sample - loss: 0.0130 - accuracy: 0.9973 - val_loss: 0.0194 - val_accuracy: 0.9950\n",
      "Epoch 15/100\n",
      "9188/9188 [==============================] - 0s 16us/sample - loss: 0.0034 - accuracy: 0.9991 - val_loss: 0.0178 - val_accuracy: 0.9962\n",
      "Epoch 16/100\n",
      "9188/9188 [==============================] - 0s 16us/sample - loss: 0.0018 - accuracy: 0.9995 - val_loss: 0.0192 - val_accuracy: 0.9950\n",
      "Epoch 17/100\n",
      "9188/9188 [==============================] - 0s 16us/sample - loss: 0.0027 - accuracy: 0.9990 - val_loss: 0.0221 - val_accuracy: 0.9950\n",
      "Epoch 18/100\n",
      "9188/9188 [==============================] - 0s 17us/sample - loss: 0.0017 - accuracy: 0.9999 - val_loss: 0.0193 - val_accuracy: 0.9958\n",
      "Epoch 19/100\n",
      "9188/9188 [==============================] - 0s 16us/sample - loss: 0.0011 - accuracy: 0.9998 - val_loss: 0.0209 - val_accuracy: 0.9954\n",
      "Epoch 20/100\n",
      "9188/9188 [==============================] - 0s 17us/sample - loss: 0.0010 - accuracy: 0.9997 - val_loss: 0.0214 - val_accuracy: 0.9958\n",
      "Epoch 21/100\n",
      "9188/9188 [==============================] - 0s 16us/sample - loss: 0.0020 - accuracy: 0.9996 - val_loss: 0.0199 - val_accuracy: 0.9962\n",
      "Epoch 22/100\n",
      "9188/9188 [==============================] - 0s 17us/sample - loss: 9.0185e-04 - accuracy: 0.9998 - val_loss: 0.0183 - val_accuracy: 0.9962\n",
      "Epoch 23/100\n",
      "9188/9188 [==============================] - 0s 17us/sample - loss: 4.0452e-04 - accuracy: 1.0000 - val_loss: 0.0221 - val_accuracy: 0.9954\n",
      "Epoch 24/100\n",
      "9188/9188 [==============================] - 0s 17us/sample - loss: 0.0020 - accuracy: 0.9997 - val_loss: 0.0194 - val_accuracy: 0.9947\n",
      "Epoch 25/100\n",
      "9188/9188 [==============================] - 0s 16us/sample - loss: 0.0039 - accuracy: 0.9993 - val_loss: 0.0268 - val_accuracy: 0.9954\n",
      "Epoch 26/100\n",
      "9188/9188 [==============================] - 0s 16us/sample - loss: 0.0135 - accuracy: 0.9989 - val_loss: 0.0207 - val_accuracy: 0.9950\n",
      "Epoch 27/100\n",
      "9188/9188 [==============================] - 0s 16us/sample - loss: 0.0060 - accuracy: 0.9993 - val_loss: 0.0281 - val_accuracy: 0.9935\n",
      "Epoch 28/100\n",
      "9188/9188 [==============================] - 0s 16us/sample - loss: 0.0013 - accuracy: 0.9997 - val_loss: 0.0262 - val_accuracy: 0.9931\n",
      "Epoch 29/100\n",
      "9188/9188 [==============================] - 0s 17us/sample - loss: 8.8758e-04 - accuracy: 0.9999 - val_loss: 0.0248 - val_accuracy: 0.9943\n",
      "Epoch 30/100\n",
      "9188/9188 [==============================] - 0s 17us/sample - loss: 6.9576e-04 - accuracy: 0.9998 - val_loss: 0.0328 - val_accuracy: 0.9935\n",
      "Epoch 31/100\n",
      "9188/9188 [==============================] - 0s 16us/sample - loss: 0.0012 - accuracy: 0.9995 - val_loss: 0.0304 - val_accuracy: 0.9928\n",
      "Epoch 32/100\n",
      "9188/9188 [==============================] - 0s 16us/sample - loss: 0.0016 - accuracy: 0.9992 - val_loss: 0.0300 - val_accuracy: 0.9947\n",
      "Epoch 33/100\n",
      "9188/9188 [==============================] - 0s 16us/sample - loss: 0.0027 - accuracy: 0.9990 - val_loss: 0.0321 - val_accuracy: 0.9943\n",
      "Epoch 34/100\n",
      "9188/9188 [==============================] - 0s 17us/sample - loss: 0.0016 - accuracy: 0.9992 - val_loss: 0.0325 - val_accuracy: 0.9950\n",
      "Epoch 35/100\n",
      "9188/9188 [==============================] - 0s 17us/sample - loss: 9.0555e-04 - accuracy: 0.9997 - val_loss: 0.0298 - val_accuracy: 0.9954\n",
      "Epoch 36/100\n",
      "9188/9188 [==============================] - 0s 17us/sample - loss: 5.9327e-04 - accuracy: 0.9999 - val_loss: 0.0366 - val_accuracy: 0.9943\n",
      "Epoch 37/100\n",
      "9188/9188 [==============================] - 0s 16us/sample - loss: 6.7900e-04 - accuracy: 0.9998 - val_loss: 0.0364 - val_accuracy: 0.9950\n",
      "Epoch 38/100\n",
      "9188/9188 [==============================] - 0s 16us/sample - loss: 9.7132e-04 - accuracy: 0.9997 - val_loss: 0.0357 - val_accuracy: 0.9947\n",
      "Epoch 39/100\n",
      "9188/9188 [==============================] - 0s 16us/sample - loss: 0.0016 - accuracy: 0.9995 - val_loss: 0.0238 - val_accuracy: 0.9954\n",
      "Epoch 40/100\n",
      "9188/9188 [==============================] - 0s 15us/sample - loss: 2.2036e-04 - accuracy: 1.0000 - val_loss: 0.0238 - val_accuracy: 0.9962\n",
      "Epoch 41/100\n",
      "9188/9188 [==============================] - 0s 16us/sample - loss: 2.5084e-04 - accuracy: 1.0000 - val_loss: 0.0224 - val_accuracy: 0.9962\n",
      "Epoch 42/100\n",
      "9188/9188 [==============================] - 0s 16us/sample - loss: 2.5684e-04 - accuracy: 1.0000 - val_loss: 0.0243 - val_accuracy: 0.9962\n",
      "Epoch 43/100\n",
      "9188/9188 [==============================] - 0s 16us/sample - loss: 6.2067e-04 - accuracy: 0.9998 - val_loss: 0.0369 - val_accuracy: 0.9958\n",
      "Epoch 44/100\n",
      "9188/9188 [==============================] - 0s 16us/sample - loss: 4.1256e-04 - accuracy: 0.9999 - val_loss: 0.0359 - val_accuracy: 0.9939\n",
      "Epoch 45/100\n",
      "9188/9188 [==============================] - 0s 16us/sample - loss: 0.0042 - accuracy: 0.9984 - val_loss: 0.0607 - val_accuracy: 0.9901\n",
      "Epoch 46/100\n",
      "9188/9188 [==============================] - 0s 15us/sample - loss: 0.0033 - accuracy: 0.9988 - val_loss: 0.0398 - val_accuracy: 0.9935\n",
      "Epoch 47/100\n",
      "9188/9188 [==============================] - 0s 16us/sample - loss: 9.2589e-04 - accuracy: 0.9996 - val_loss: 0.0227 - val_accuracy: 0.9962\n",
      "Epoch 48/100\n",
      "9188/9188 [==============================] - 0s 16us/sample - loss: 0.0015 - accuracy: 0.9991 - val_loss: 0.0200 - val_accuracy: 0.9958\n",
      "Epoch 49/100\n",
      "9188/9188 [==============================] - 0s 16us/sample - loss: 3.8129e-04 - accuracy: 0.9999 - val_loss: 0.0215 - val_accuracy: 0.9970\n",
      "Epoch 50/100\n",
      "9188/9188 [==============================] - 0s 16us/sample - loss: 3.9023e-04 - accuracy: 0.9998 - val_loss: 0.0232 - val_accuracy: 0.9966\n",
      "Epoch 51/100\n",
      "9188/9188 [==============================] - 0s 16us/sample - loss: 6.5131e-04 - accuracy: 0.9996 - val_loss: 0.0308 - val_accuracy: 0.9958\n",
      "Epoch 52/100\n",
      "9188/9188 [==============================] - 0s 16us/sample - loss: 3.9077e-04 - accuracy: 0.9998 - val_loss: 0.0249 - val_accuracy: 0.9962\n",
      "Epoch 53/100\n",
      "9188/9188 [==============================] - 0s 17us/sample - loss: 0.0026 - accuracy: 0.9995 - val_loss: 0.0269 - val_accuracy: 0.9950\n",
      "Epoch 54/100\n",
      "9188/9188 [==============================] - 0s 16us/sample - loss: 0.0025 - accuracy: 0.9991 - val_loss: 0.0247 - val_accuracy: 0.9947\n",
      "Epoch 55/100\n",
      "9188/9188 [==============================] - 0s 16us/sample - loss: 0.0011 - accuracy: 0.9996 - val_loss: 0.0297 - val_accuracy: 0.9947\n",
      "Epoch 56/100\n",
      "9188/9188 [==============================] - 0s 15us/sample - loss: 0.0012 - accuracy: 0.9996 - val_loss: 0.0275 - val_accuracy: 0.9939\n",
      "Epoch 57/100\n",
      "9188/9188 [==============================] - 0s 16us/sample - loss: 1.4611e-04 - accuracy: 1.0000 - val_loss: 0.0314 - val_accuracy: 0.9947\n",
      "Epoch 58/100\n",
      "9188/9188 [==============================] - 0s 16us/sample - loss: 7.1814e-04 - accuracy: 0.9998 - val_loss: 0.0217 - val_accuracy: 0.9943\n",
      "Epoch 59/100\n",
      "9188/9188 [==============================] - 0s 16us/sample - loss: 8.5493e-04 - accuracy: 0.9996 - val_loss: 0.0365 - val_accuracy: 0.9943\n",
      "Epoch 60/100\n",
      "9188/9188 [==============================] - 0s 15us/sample - loss: 4.7966e-04 - accuracy: 0.9999 - val_loss: 0.0280 - val_accuracy: 0.9943\n",
      "Epoch 61/100\n",
      "9188/9188 [==============================] - 0s 15us/sample - loss: 2.4699e-04 - accuracy: 1.0000 - val_loss: 0.0273 - val_accuracy: 0.9950\n",
      "Epoch 62/100\n",
      "9188/9188 [==============================] - 0s 16us/sample - loss: 3.0788e-04 - accuracy: 0.9999 - val_loss: 0.0268 - val_accuracy: 0.9947\n",
      "Epoch 63/100\n",
      "9188/9188 [==============================] - 0s 15us/sample - loss: 7.0824e-05 - accuracy: 1.0000 - val_loss: 0.0265 - val_accuracy: 0.9954\n",
      "Epoch 64/100\n",
      "9188/9188 [==============================] - 0s 16us/sample - loss: 9.3191e-05 - accuracy: 1.0000 - val_loss: 0.0261 - val_accuracy: 0.9954\n",
      "Epoch 65/100\n",
      "9188/9188 [==============================] - 0s 16us/sample - loss: 4.1792e-05 - accuracy: 1.0000 - val_loss: 0.0260 - val_accuracy: 0.9954\n",
      "Epoch 66/100\n",
      "9188/9188 [==============================] - 0s 16us/sample - loss: 4.3546e-04 - accuracy: 0.9999 - val_loss: 0.0351 - val_accuracy: 0.9943\n",
      "Epoch 67/100\n",
      "9188/9188 [==============================] - 0s 15us/sample - loss: 0.0010 - accuracy: 0.9998 - val_loss: 0.0210 - val_accuracy: 0.9958\n",
      "Epoch 68/100\n",
      "9188/9188 [==============================] - 0s 16us/sample - loss: 3.2293e-04 - accuracy: 0.9999 - val_loss: 0.0262 - val_accuracy: 0.9954\n",
      "Epoch 69/100\n",
      "9188/9188 [==============================] - 0s 16us/sample - loss: 8.1980e-05 - accuracy: 1.0000 - val_loss: 0.0204 - val_accuracy: 0.9958\n",
      "Epoch 70/100\n",
      "9188/9188 [==============================] - 0s 15us/sample - loss: 7.1270e-05 - accuracy: 1.0000 - val_loss: 0.0222 - val_accuracy: 0.9966\n",
      "Epoch 71/100\n",
      "9188/9188 [==============================] - 0s 16us/sample - loss: 1.5233e-04 - accuracy: 0.9999 - val_loss: 0.0250 - val_accuracy: 0.9962\n",
      "Epoch 72/100\n",
      "9188/9188 [==============================] - 0s 16us/sample - loss: 8.7566e-05 - accuracy: 1.0000 - val_loss: 0.0269 - val_accuracy: 0.9958\n",
      "Epoch 73/100\n",
      "9188/9188 [==============================] - 0s 15us/sample - loss: 1.3051e-05 - accuracy: 1.0000 - val_loss: 0.0281 - val_accuracy: 0.9958\n",
      "Epoch 74/100\n",
      "9188/9188 [==============================] - 0s 15us/sample - loss: 6.4480e-05 - accuracy: 1.0000 - val_loss: 0.0230 - val_accuracy: 0.9954\n",
      "Epoch 75/100\n",
      "9188/9188 [==============================] - 0s 15us/sample - loss: 1.3667e-04 - accuracy: 1.0000 - val_loss: 0.0294 - val_accuracy: 0.9954\n",
      "Epoch 76/100\n",
      "9188/9188 [==============================] - 0s 16us/sample - loss: 4.6369e-05 - accuracy: 1.0000 - val_loss: 0.0284 - val_accuracy: 0.9954\n",
      "Epoch 77/100\n",
      "9188/9188 [==============================] - 0s 16us/sample - loss: 1.6397e-05 - accuracy: 1.0000 - val_loss: 0.0287 - val_accuracy: 0.9954\n",
      "Epoch 78/100\n",
      "9188/9188 [==============================] - 0s 16us/sample - loss: 1.3621e-05 - accuracy: 1.0000 - val_loss: 0.0287 - val_accuracy: 0.9958\n",
      "Epoch 79/100\n",
      "9188/9188 [==============================] - 0s 16us/sample - loss: 2.2343e-05 - accuracy: 1.0000 - val_loss: 0.0286 - val_accuracy: 0.9958\n",
      "Epoch 80/100\n",
      "9188/9188 [==============================] - 0s 16us/sample - loss: 6.0872e-05 - accuracy: 1.0000 - val_loss: 0.0322 - val_accuracy: 0.9950\n",
      "Epoch 81/100\n",
      "9188/9188 [==============================] - 0s 17us/sample - loss: 5.1207e-05 - accuracy: 1.0000 - val_loss: 0.0321 - val_accuracy: 0.9950\n",
      "Epoch 82/100\n",
      "9188/9188 [==============================] - 0s 16us/sample - loss: 1.7218e-05 - accuracy: 1.0000 - val_loss: 0.0312 - val_accuracy: 0.9950\n",
      "Epoch 83/100\n",
      "9188/9188 [==============================] - 0s 16us/sample - loss: 5.9313e-06 - accuracy: 1.0000 - val_loss: 0.0307 - val_accuracy: 0.9950\n",
      "Epoch 84/100\n",
      "9188/9188 [==============================] - 0s 16us/sample - loss: 1.6112e-05 - accuracy: 1.0000 - val_loss: 0.0325 - val_accuracy: 0.9950\n",
      "Epoch 85/100\n",
      "9188/9188 [==============================] - 0s 16us/sample - loss: 1.5708e-05 - accuracy: 1.0000 - val_loss: 0.0319 - val_accuracy: 0.9950\n",
      "Epoch 86/100\n",
      "9188/9188 [==============================] - 0s 16us/sample - loss: 3.0925e-05 - accuracy: 1.0000 - val_loss: 0.0324 - val_accuracy: 0.9950\n",
      "Epoch 87/100\n",
      "9188/9188 [==============================] - 0s 16us/sample - loss: 7.3932e-06 - accuracy: 1.0000 - val_loss: 0.0317 - val_accuracy: 0.9950\n",
      "Epoch 88/100\n",
      "9188/9188 [==============================] - 0s 16us/sample - loss: 3.7039e-05 - accuracy: 1.0000 - val_loss: 0.0267 - val_accuracy: 0.9950\n",
      "Epoch 89/100\n",
      "9188/9188 [==============================] - 0s 16us/sample - loss: 3.1250e-04 - accuracy: 0.9999 - val_loss: 0.0433 - val_accuracy: 0.9947\n",
      "Epoch 90/100\n",
      "9188/9188 [==============================] - 0s 16us/sample - loss: 3.3496e-04 - accuracy: 0.9998 - val_loss: 0.0318 - val_accuracy: 0.9943\n",
      "Epoch 91/100\n",
      "9188/9188 [==============================] - 0s 16us/sample - loss: 9.7094e-04 - accuracy: 0.9998 - val_loss: 0.0293 - val_accuracy: 0.9954\n",
      "Epoch 92/100\n",
      "9188/9188 [==============================] - 0s 17us/sample - loss: 0.0335 - accuracy: 0.9962 - val_loss: 0.0231 - val_accuracy: 0.9924\n",
      "Epoch 93/100\n",
      "9188/9188 [==============================] - 0s 16us/sample - loss: 0.0095 - accuracy: 0.9974 - val_loss: 0.0248 - val_accuracy: 0.9935\n",
      "Epoch 94/100\n",
      "9188/9188 [==============================] - 0s 16us/sample - loss: 0.0043 - accuracy: 0.9991 - val_loss: 0.0159 - val_accuracy: 0.9947\n",
      "Epoch 95/100\n",
      "9188/9188 [==============================] - 0s 16us/sample - loss: 0.0014 - accuracy: 0.9995 - val_loss: 0.0318 - val_accuracy: 0.9943\n",
      "Epoch 96/100\n",
      "9188/9188 [==============================] - 0s 16us/sample - loss: 0.0011 - accuracy: 0.9995 - val_loss: 0.0260 - val_accuracy: 0.9935\n",
      "Epoch 97/100\n",
      "9188/9188 [==============================] - 0s 16us/sample - loss: 5.7983e-04 - accuracy: 0.9999 - val_loss: 0.0227 - val_accuracy: 0.9935\n",
      "Epoch 98/100\n",
      "9188/9188 [==============================] - 0s 16us/sample - loss: 3.3301e-04 - accuracy: 0.9999 - val_loss: 0.0252 - val_accuracy: 0.9947\n",
      "Epoch 99/100\n",
      "9188/9188 [==============================] - 0s 16us/sample - loss: 5.5973e-04 - accuracy: 0.9998 - val_loss: 0.0251 - val_accuracy: 0.9950\n",
      "Epoch 100/100\n",
      "9188/9188 [==============================] - 0s 16us/sample - loss: 0.0029 - accuracy: 0.9998 - val_loss: 0.0241 - val_accuracy: 0.9939\n"
     ]
    }
   ],
   "source": [
    "# fitting the model with the train data and validation with the validation data\n",
    "# we used early stop with patience 15\n",
    "history = model.fit(X_train, y_train, batch_size=256, epochs=100, \n",
    "                    validation_data=(X_val, y_val),\n",
    "                    callbacks=[early_stop])\n",
    "                    "
   ]
  },
  {
   "cell_type": "code",
   "execution_count": 76,
   "metadata": {},
   "outputs": [
    {
     "name": "stdout",
     "output_type": "stream",
     "text": [
      "Model: \"sequential_1\"\n",
      "_________________________________________________________________\n",
      "Layer (type)                 Output Shape              Param #   \n",
      "=================================================================\n",
      "dense_4 (Dense)              (None, 193)               37442     \n",
      "_________________________________________________________________\n",
      "dropout_3 (Dropout)          (None, 193)               0         \n",
      "_________________________________________________________________\n",
      "dense_5 (Dense)              (None, 128)               24832     \n",
      "_________________________________________________________________\n",
      "dropout_4 (Dropout)          (None, 128)               0         \n",
      "_________________________________________________________________\n",
      "dense_6 (Dense)              (None, 128)               16512     \n",
      "_________________________________________________________________\n",
      "dropout_5 (Dropout)          (None, 128)               0         \n",
      "_________________________________________________________________\n",
      "dense_7 (Dense)              (None, 2)                 258       \n",
      "=================================================================\n",
      "Total params: 79,044\n",
      "Trainable params: 79,044\n",
      "Non-trainable params: 0\n",
      "_________________________________________________________________\n"
     ]
    }
   ],
   "source": [
    "# Checking how our model looks like and how many parameters it has\n",
    "model.summary()"
   ]
  },
  {
   "cell_type": "code",
   "execution_count": 77,
   "metadata": {
    "scrolled": true
   },
   "outputs": [
    {
     "data": {
      "image/png": "[encoded data removed]",
      "text/plain": [
       "<Figure size 864x576 with 1 Axes>"
      ]
     },
     "metadata": {
      "needs_background": "light"
     },
     "output_type": "display_data"
    }
   ],
   "source": [
    "# Check out our train accuracy and validation accuracy over epochs.\n",
    "train_accuracy = history.history['accuracy']\n",
    "val_accuracy = history.history['val_accuracy']\n",
    "\n",
    "# Set figure size.\n",
    "plt.figure(figsize=(12, 8))\n",
    "\n",
    "# Generate line plot of training, testing loss over epochs.\n",
    "plt.plot(train_accuracy, label='Training Accuracy', color='#185fad')\n",
    "plt.plot(val_accuracy, label='Validation Accuracy', color='orange')\n",
    "\n",
    "# Set title\n",
    "plt.title('Training and Validation Accuracy by Epoch', fontsize = 25)\n",
    "plt.xlabel('Epoch', fontsize = 18)\n",
    "plt.ylabel('Categorical Crossentropy', fontsize = 18)\n",
    "plt.xticks(range(0,100,5), range(0,100,5))\n",
    "\n",
    "plt.legend(fontsize = 18);"
   ]
  },
  {
   "cell_type": "code",
   "execution_count": 78,
   "metadata": {},
   "outputs": [],
   "source": [
    "# Using our model to get the predictions for our test data\n",
    "preds = model.predict_classes(X_test)"
   ]
  },
  {
   "cell_type": "code",
   "execution_count": 79,
   "metadata": {},
   "outputs": [],
   "source": [
    "df_test = df[11813:]"
   ]
  },
  {
   "cell_type": "code",
   "execution_count": 80,
   "metadata": {},
   "outputs": [
    {
     "name": "stderr",
     "output_type": "stream",
     "text": [
      "/Users/jurgenarias/anaconda3/envs/dsi/lib/python3.7/site-packages/ipykernel_launcher.py:1: SettingWithCopyWarning: \n",
      "A value is trying to be set on a copy of a slice from a DataFrame.\n",
      "Try using .loc[row_indexer,col_indexer] = value instead\n",
      "\n",
      "See the caveats in the documentation: http://pandas.pydata.org/pandas-docs/stable/user_guide/indexing.html#returning-a-view-versus-a-copy\n",
      "  \"\"\"Entry point for launching an IPython kernel.\n"
     ]
    }
   ],
   "source": [
    "df_test['preds'] = preds"
   ]
  },
  {
   "cell_type": "code",
   "execution_count": 81,
   "metadata": {},
   "outputs": [
    {
     "data": {
      "text/html": [
       "<div>\n",
       "<style scoped>\n",
       "    .dataframe tbody tr th:only-of-type {\n",
       "        vertical-align: middle;\n",
       "    }\n",
       "\n",
       "    .dataframe tbody tr th {\n",
       "        vertical-align: top;\n",
       "    }\n",
       "\n",
       "    .dataframe thead th {\n",
       "        text-align: right;\n",
       "    }\n",
       "</style>\n",
       "<table border=\"1\" class=\"dataframe\">\n",
       "  <thead>\n",
       "    <tr style=\"text-align: right;\">\n",
       "      <th></th>\n",
       "      <th>file</th>\n",
       "      <th>label</th>\n",
       "      <th>preds</th>\n",
       "    </tr>\n",
       "  </thead>\n",
       "  <tbody>\n",
       "    <tr>\n",
       "      <th>11813</th>\n",
       "      <td>2518-154826-0031.flac</td>\n",
       "      <td>1</td>\n",
       "      <td>1</td>\n",
       "    </tr>\n",
       "    <tr>\n",
       "      <th>11814</th>\n",
       "      <td>254-127705-0028.flac</td>\n",
       "      <td>1</td>\n",
       "      <td>1</td>\n",
       "    </tr>\n",
       "    <tr>\n",
       "      <th>11815</th>\n",
       "      <td>374-180298-0041.flac</td>\n",
       "      <td>1</td>\n",
       "      <td>1</td>\n",
       "    </tr>\n",
       "    <tr>\n",
       "      <th>11816</th>\n",
       "      <td>1926-143879-0008.flac</td>\n",
       "      <td>0</td>\n",
       "      <td>0</td>\n",
       "    </tr>\n",
       "    <tr>\n",
       "      <th>11817</th>\n",
       "      <td>1116-132847-0002.flac</td>\n",
       "      <td>0</td>\n",
       "      <td>0</td>\n",
       "    </tr>\n",
       "    <tr>\n",
       "      <th>...</th>\n",
       "      <td>...</td>\n",
       "      <td>...</td>\n",
       "      <td>...</td>\n",
       "    </tr>\n",
       "    <tr>\n",
       "      <th>13120</th>\n",
       "      <td>1743-142914-0013.flac</td>\n",
       "      <td>1</td>\n",
       "      <td>1</td>\n",
       "    </tr>\n",
       "    <tr>\n",
       "      <th>13121</th>\n",
       "      <td>27-123349-0032.flac</td>\n",
       "      <td>1</td>\n",
       "      <td>1</td>\n",
       "    </tr>\n",
       "    <tr>\n",
       "      <th>13122</th>\n",
       "      <td>1898-145724-0026.flac</td>\n",
       "      <td>0</td>\n",
       "      <td>0</td>\n",
       "    </tr>\n",
       "    <tr>\n",
       "      <th>13123</th>\n",
       "      <td>2182-181183-0001.flac</td>\n",
       "      <td>0</td>\n",
       "      <td>0</td>\n",
       "    </tr>\n",
       "    <tr>\n",
       "      <th>13124</th>\n",
       "      <td>26-495-0088.flac</td>\n",
       "      <td>1</td>\n",
       "      <td>1</td>\n",
       "    </tr>\n",
       "  </tbody>\n",
       "</table>\n",
       "<p>1312 rows × 3 columns</p>\n",
       "</div>"
      ],
      "text/plain": [
       "                        file  label  preds\n",
       "11813  2518-154826-0031.flac      1      1\n",
       "11814   254-127705-0028.flac      1      1\n",
       "11815   374-180298-0041.flac      1      1\n",
       "11816  1926-143879-0008.flac      0      0\n",
       "11817  1116-132847-0002.flac      0      0\n",
       "...                      ...    ...    ...\n",
       "13120  1743-142914-0013.flac      1      1\n",
       "13121    27-123349-0032.flac      1      1\n",
       "13122  1898-145724-0026.flac      0      0\n",
       "13123  2182-181183-0001.flac      0      0\n",
       "13124       26-495-0088.flac      1      1\n",
       "\n",
       "[1312 rows x 3 columns]"
      ]
     },
     "execution_count": 81,
     "metadata": {},
     "output_type": "execute_result"
    }
   ],
   "source": [
    "df_test"
   ]
  },
  {
   "cell_type": "code",
   "execution_count": 82,
   "metadata": {},
   "outputs": [
    {
     "name": "stderr",
     "output_type": "stream",
     "text": [
      "/Users/jurgenarias/anaconda3/envs/dsi/lib/python3.7/site-packages/ipykernel_launcher.py:1: SettingWithCopyWarning: \n",
      "A value is trying to be set on a copy of a slice from a DataFrame.\n",
      "Try using .loc[row_indexer,col_indexer] = value instead\n",
      "\n",
      "See the caveats in the documentation: http://pandas.pydata.org/pandas-docs/stable/user_guide/indexing.html#returning-a-view-versus-a-copy\n",
      "  \"\"\"Entry point for launching an IPython kernel.\n"
     ]
    }
   ],
   "source": [
    "df_test['label'] = df_test['label'].astype(int)"
   ]
  },
  {
   "cell_type": "code",
   "execution_count": 83,
   "metadata": {},
   "outputs": [
    {
     "data": {
      "text/html": [
       "<div>\n",
       "<style scoped>\n",
       "    .dataframe tbody tr th:only-of-type {\n",
       "        vertical-align: middle;\n",
       "    }\n",
       "\n",
       "    .dataframe tbody tr th {\n",
       "        vertical-align: top;\n",
       "    }\n",
       "\n",
       "    .dataframe thead th {\n",
       "        text-align: right;\n",
       "    }\n",
       "</style>\n",
       "<table border=\"1\" class=\"dataframe\">\n",
       "  <thead>\n",
       "    <tr style=\"text-align: right;\">\n",
       "      <th></th>\n",
       "      <th>file</th>\n",
       "      <th>label</th>\n",
       "      <th>preds</th>\n",
       "    </tr>\n",
       "  </thead>\n",
       "  <tbody>\n",
       "    <tr>\n",
       "      <th>11982</th>\n",
       "      <td>1743-142912-0035.flac</td>\n",
       "      <td>1</td>\n",
       "      <td>0</td>\n",
       "    </tr>\n",
       "    <tr>\n",
       "      <th>12330</th>\n",
       "      <td>3436-172162-0001.flac</td>\n",
       "      <td>1</td>\n",
       "      <td>0</td>\n",
       "    </tr>\n",
       "    <tr>\n",
       "      <th>12522</th>\n",
       "      <td>250-142276-0000.flac</td>\n",
       "      <td>0</td>\n",
       "      <td>1</td>\n",
       "    </tr>\n",
       "  </tbody>\n",
       "</table>\n",
       "</div>"
      ],
      "text/plain": [
       "                        file  label  preds\n",
       "11982  1743-142912-0035.flac      1      0\n",
       "12330  3436-172162-0001.flac      1      0\n",
       "12522   250-142276-0000.flac      0      1"
      ]
     },
     "execution_count": 83,
     "metadata": {},
     "output_type": "execute_result"
    }
   ],
   "source": [
    "# Slicing our dataframe into the files we got wrong from our predictions\n",
    "df_test[df_test['label'] != df_test['preds']]"
   ]
  },
  {
   "cell_type": "code",
   "execution_count": 84,
   "metadata": {},
   "outputs": [
    {
     "data": {
      "text/plain": [
       "0.998"
      ]
     },
     "execution_count": 84,
     "metadata": {},
     "output_type": "execute_result"
    }
   ],
   "source": [
    "1-round(len(df_test[df_test['label'] != df_test['preds']])/len(df_test),3)"
   ]
  },
  {
   "cell_type": "markdown",
   "metadata": {},
   "source": [
    "#### 99.8% accurate on test data"
   ]
  },
  {
   "cell_type": "markdown",
   "metadata": {},
   "source": [
    "But it is test data from the speakers we have trained the model on"
   ]
  },
  {
   "cell_type": "code",
   "execution_count": 85,
   "metadata": {},
   "outputs": [
    {
     "data": {
      "text/plain": [
       "115"
      ]
     },
     "execution_count": 85,
     "metadata": {},
     "output_type": "execute_result"
    }
   ],
   "source": [
    "#Checking how many different speakers we have\n",
    "\n",
    "speakers = []\n",
    "for i in range(0, len(df)):\n",
    "    # The first numbers of each file represent the id of the speaker \n",
    "    speakers.append(df['file'][i].split('-')[0])\n",
    "\n",
    "len(set(speakers))"
   ]
  },
  {
   "cell_type": "markdown",
   "metadata": {},
   "source": [
    "#### We will try again and add new test data with speakers that our model has never heard before"
   ]
  },
  {
   "cell_type": "code",
   "execution_count": 86,
   "metadata": {},
   "outputs": [
    {
     "data": {
      "text/html": [
       "<div>\n",
       "<style scoped>\n",
       "    .dataframe tbody tr th:only-of-type {\n",
       "        vertical-align: middle;\n",
       "    }\n",
       "\n",
       "    .dataframe tbody tr th {\n",
       "        vertical-align: top;\n",
       "    }\n",
       "\n",
       "    .dataframe thead th {\n",
       "        text-align: right;\n",
       "    }\n",
       "</style>\n",
       "<table border=\"1\" class=\"dataframe\">\n",
       "  <thead>\n",
       "    <tr style=\"text-align: right;\">\n",
       "      <th></th>\n",
       "      <th>file</th>\n",
       "      <th>label</th>\n",
       "    </tr>\n",
       "  </thead>\n",
       "  <tbody>\n",
       "    <tr>\n",
       "      <th>6</th>\n",
       "      <td>.DS_Store</td>\n",
       "      <td>1</td>\n",
       "    </tr>\n",
       "  </tbody>\n",
       "</table>\n",
       "</div>"
      ],
      "text/plain": [
       "        file  label\n",
       "6  .DS_Store      1"
      ]
     },
     "execution_count": 86,
     "metadata": {},
     "output_type": "execute_result"
    }
   ],
   "source": [
    "#list the files\n",
    "filelist = os.listdir('test_male') \n",
    "#read them into pandas\n",
    "df_test_male = pd.DataFrame(filelist)\n",
    "\n",
    "# Adding the 1 label to the dataframe representing male\n",
    "df_test_male['label']=1\n",
    "\n",
    "# Renaming the column name to file\n",
    "df_test_male = df_test_male.rename(columns={0:'file'})\n",
    "\n",
    "df_test_male.head()\n",
    "\n",
    "# Checking for a file that gets automatically generated and we need to drop \n",
    "df_test_male[df_test_male['file']=='.DS_Store']"
   ]
  },
  {
   "cell_type": "code",
   "execution_count": 87,
   "metadata": {},
   "outputs": [],
   "source": [
    "# Dropping the system file\n",
    "df_test_male.drop(6, inplace=True)\n",
    "\n",
    "# Resetting the index since we dropped a row\n",
    "df_test_male = df_test_male.reset_index(drop=True)"
   ]
  },
  {
   "cell_type": "code",
   "execution_count": 88,
   "metadata": {},
   "outputs": [
    {
     "data": {
      "text/html": [
       "<div>\n",
       "<style scoped>\n",
       "    .dataframe tbody tr th:only-of-type {\n",
       "        vertical-align: middle;\n",
       "    }\n",
       "\n",
       "    .dataframe tbody tr th {\n",
       "        vertical-align: top;\n",
       "    }\n",
       "\n",
       "    .dataframe thead th {\n",
       "        text-align: right;\n",
       "    }\n",
       "</style>\n",
       "<table border=\"1\" class=\"dataframe\">\n",
       "  <thead>\n",
       "    <tr style=\"text-align: right;\">\n",
       "      <th></th>\n",
       "      <th>file</th>\n",
       "      <th>label</th>\n",
       "    </tr>\n",
       "  </thead>\n",
       "  <tbody>\n",
       "    <tr>\n",
       "      <th>0</th>\n",
       "      <td>5104-33406-0000.flac</td>\n",
       "      <td>1</td>\n",
       "    </tr>\n",
       "    <tr>\n",
       "      <th>1</th>\n",
       "      <td>5192-19396-0000.flac</td>\n",
       "      <td>1</td>\n",
       "    </tr>\n",
       "    <tr>\n",
       "      <th>2</th>\n",
       "      <td>3607-29116-0008.flac</td>\n",
       "      <td>1</td>\n",
       "    </tr>\n",
       "    <tr>\n",
       "      <th>3</th>\n",
       "      <td>6181-216552-0000.flac</td>\n",
       "      <td>1</td>\n",
       "    </tr>\n",
       "    <tr>\n",
       "      <th>4</th>\n",
       "      <td>5390-24512-0000.flac</td>\n",
       "      <td>1</td>\n",
       "    </tr>\n",
       "  </tbody>\n",
       "</table>\n",
       "</div>"
      ],
      "text/plain": [
       "                    file  label\n",
       "0   5104-33406-0000.flac      1\n",
       "1   5192-19396-0000.flac      1\n",
       "2   3607-29116-0008.flac      1\n",
       "3  6181-216552-0000.flac      1\n",
       "4   5390-24512-0000.flac      1"
      ]
     },
     "execution_count": 88,
     "metadata": {},
     "output_type": "execute_result"
    }
   ],
   "source": [
    "df_test_male.head()"
   ]
  },
  {
   "cell_type": "code",
   "execution_count": 89,
   "metadata": {},
   "outputs": [
    {
     "data": {
      "text/html": [
       "<div>\n",
       "<style scoped>\n",
       "    .dataframe tbody tr th:only-of-type {\n",
       "        vertical-align: middle;\n",
       "    }\n",
       "\n",
       "    .dataframe tbody tr th {\n",
       "        vertical-align: top;\n",
       "    }\n",
       "\n",
       "    .dataframe thead th {\n",
       "        text-align: right;\n",
       "    }\n",
       "</style>\n",
       "<table border=\"1\" class=\"dataframe\">\n",
       "  <thead>\n",
       "    <tr style=\"text-align: right;\">\n",
       "      <th></th>\n",
       "      <th>file</th>\n",
       "      <th>label</th>\n",
       "    </tr>\n",
       "  </thead>\n",
       "  <tbody>\n",
       "    <tr>\n",
       "      <th>7</th>\n",
       "      <td>.DS_Store</td>\n",
       "      <td>0</td>\n",
       "    </tr>\n",
       "  </tbody>\n",
       "</table>\n",
       "</div>"
      ],
      "text/plain": [
       "        file  label\n",
       "7  .DS_Store      0"
      ]
     },
     "execution_count": 89,
     "metadata": {},
     "output_type": "execute_result"
    }
   ],
   "source": [
    "#list the files\n",
    "filelist = os.listdir('test_female') \n",
    "#read them into pandas\n",
    "df_test_female = pd.DataFrame(filelist)\n",
    "\n",
    "# Adding the 1 label to the dataframe representing male\n",
    "df_test_female['label']=0\n",
    "\n",
    "# Renaming the column name to file\n",
    "df_test_female = df_test_female.rename(columns={0:'file'})\n",
    "\n",
    "df_test_female.head()\n",
    "\n",
    "# Checking for a file that gets automatically generated and we need to drop \n",
    "df_test_female[df_test_female['file']=='.DS_Store']"
   ]
  },
  {
   "cell_type": "code",
   "execution_count": 90,
   "metadata": {},
   "outputs": [],
   "source": [
    "# Dropping the system file\n",
    "df_test_female.drop(7, inplace=True)\n",
    "\n",
    "# Resetting the index since we dropped a row\n",
    "df_test_female = df_test_female.reset_index(drop=True)"
   ]
  },
  {
   "cell_type": "code",
   "execution_count": 91,
   "metadata": {},
   "outputs": [
    {
     "data": {
      "text/html": [
       "<div>\n",
       "<style scoped>\n",
       "    .dataframe tbody tr th:only-of-type {\n",
       "        vertical-align: middle;\n",
       "    }\n",
       "\n",
       "    .dataframe tbody tr th {\n",
       "        vertical-align: top;\n",
       "    }\n",
       "\n",
       "    .dataframe thead th {\n",
       "        text-align: right;\n",
       "    }\n",
       "</style>\n",
       "<table border=\"1\" class=\"dataframe\">\n",
       "  <thead>\n",
       "    <tr style=\"text-align: right;\">\n",
       "      <th></th>\n",
       "      <th>file</th>\n",
       "      <th>label</th>\n",
       "    </tr>\n",
       "  </thead>\n",
       "  <tbody>\n",
       "    <tr>\n",
       "      <th>0</th>\n",
       "      <td>2910-131096-0007.flac</td>\n",
       "      <td>0</td>\n",
       "    </tr>\n",
       "    <tr>\n",
       "      <th>1</th>\n",
       "      <td>5778-12761-0000.flac</td>\n",
       "      <td>0</td>\n",
       "    </tr>\n",
       "    <tr>\n",
       "      <th>2</th>\n",
       "      <td>4680-16026-0000.flac</td>\n",
       "      <td>0</td>\n",
       "    </tr>\n",
       "    <tr>\n",
       "      <th>3</th>\n",
       "      <td>6272-70168-0000.flac</td>\n",
       "      <td>0</td>\n",
       "    </tr>\n",
       "    <tr>\n",
       "      <th>4</th>\n",
       "      <td>5867-48852-0000.flac</td>\n",
       "      <td>0</td>\n",
       "    </tr>\n",
       "  </tbody>\n",
       "</table>\n",
       "</div>"
      ],
      "text/plain": [
       "                    file  label\n",
       "0  2910-131096-0007.flac      0\n",
       "1   5778-12761-0000.flac      0\n",
       "2   4680-16026-0000.flac      0\n",
       "3   6272-70168-0000.flac      0\n",
       "4   5867-48852-0000.flac      0"
      ]
     },
     "execution_count": 91,
     "metadata": {},
     "output_type": "execute_result"
    }
   ],
   "source": [
    "df_test_female.head()"
   ]
  },
  {
   "cell_type": "code",
   "execution_count": 92,
   "metadata": {},
   "outputs": [],
   "source": [
    "test_new = pd.concat([df_test_male, df_test_female], ignore_index=True)"
   ]
  },
  {
   "cell_type": "code",
   "execution_count": 93,
   "metadata": {
    "scrolled": true
   },
   "outputs": [
    {
     "data": {
      "text/html": [
       "<div>\n",
       "<style scoped>\n",
       "    .dataframe tbody tr th:only-of-type {\n",
       "        vertical-align: middle;\n",
       "    }\n",
       "\n",
       "    .dataframe tbody tr th {\n",
       "        vertical-align: top;\n",
       "    }\n",
       "\n",
       "    .dataframe thead th {\n",
       "        text-align: right;\n",
       "    }\n",
       "</style>\n",
       "<table border=\"1\" class=\"dataframe\">\n",
       "  <thead>\n",
       "    <tr style=\"text-align: right;\">\n",
       "      <th></th>\n",
       "      <th>file</th>\n",
       "      <th>label</th>\n",
       "    </tr>\n",
       "  </thead>\n",
       "  <tbody>\n",
       "    <tr>\n",
       "      <th>0</th>\n",
       "      <td>5104-33406-0000.flac</td>\n",
       "      <td>1</td>\n",
       "    </tr>\n",
       "    <tr>\n",
       "      <th>1</th>\n",
       "      <td>5192-19396-0000.flac</td>\n",
       "      <td>1</td>\n",
       "    </tr>\n",
       "    <tr>\n",
       "      <th>2</th>\n",
       "      <td>3607-29116-0008.flac</td>\n",
       "      <td>1</td>\n",
       "    </tr>\n",
       "    <tr>\n",
       "      <th>3</th>\n",
       "      <td>6181-216552-0000.flac</td>\n",
       "      <td>1</td>\n",
       "    </tr>\n",
       "    <tr>\n",
       "      <th>4</th>\n",
       "      <td>5390-24512-0000.flac</td>\n",
       "      <td>1</td>\n",
       "    </tr>\n",
       "  </tbody>\n",
       "</table>\n",
       "</div>"
      ],
      "text/plain": [
       "                    file  label\n",
       "0   5104-33406-0000.flac      1\n",
       "1   5192-19396-0000.flac      1\n",
       "2   3607-29116-0008.flac      1\n",
       "3  6181-216552-0000.flac      1\n",
       "4   5390-24512-0000.flac      1"
      ]
     },
     "execution_count": 93,
     "metadata": {},
     "output_type": "execute_result"
    }
   ],
   "source": [
    "test_new.head()"
   ]
  },
  {
   "cell_type": "code",
   "execution_count": 94,
   "metadata": {},
   "outputs": [
    {
     "data": {
      "text/plain": [
       "100"
      ]
     },
     "execution_count": 94,
     "metadata": {},
     "output_type": "execute_result"
    }
   ],
   "source": [
    "#Checking how many different new speakers we have\n",
    "\n",
    "speakers = []\n",
    "for i in range(0, len(test_new)):\n",
    "    # The first numbers of each file represent the id of the speaker \n",
    "    speakers.append(test_new['file'][i].split('-')[0])\n",
    "\n",
    "len(set(speakers))"
   ]
  },
  {
   "cell_type": "code",
   "execution_count": 95,
   "metadata": {},
   "outputs": [],
   "source": [
    "# Again, the modified function to extract features from our new test data\n",
    "\n",
    "def extract_features(files):\n",
    "    \n",
    "    # Sets the name to be the path to where the file is in my computer\n",
    "    file_name = os.path.join(os.path.abspath('new_test_male_female')+'/'+str(files.file))\n",
    "\n",
    "    # Loads the audio file as a floating point time series and assigns the default sample rate\n",
    "    # Sample rate is set to 22050 by default\n",
    "    X, sample_rate = librosa.load(file_name, res_type='kaiser_fast') \n",
    "\n",
    "    # Generate Mel-frequency cepstral coefficients (MFCCs) from a time series \n",
    "    mfccs = np.mean(librosa.feature.mfcc(y=X, sr=sample_rate, n_mfcc=40).T,axis=0)\n",
    "\n",
    "    # Generates a Short-time Fourier transform (STFT) to use in the chroma_stft\n",
    "    stft = np.abs(librosa.stft(X))\n",
    "\n",
    "    # Computes a chromagram from a waveform or power spectrogram.\n",
    "    chroma = np.mean(librosa.feature.chroma_stft(S=stft, sr=sample_rate).T,axis=0)\n",
    "\n",
    "    # Computes a mel-scaled spectrogram.\n",
    "    mel = np.mean(librosa.feature.melspectrogram(X, sr=sample_rate).T,axis=0)\n",
    "\n",
    "    # Computes spectral contrast\n",
    "    contrast = np.mean(librosa.feature.spectral_contrast(S=stft, sr=sample_rate).T,axis=0)\n",
    "\n",
    "    # Computes the tonal centroid features (tonnetz)\n",
    "    tonnetz = np.mean(librosa.feature.tonnetz(y=librosa.effects.harmonic(X),\n",
    "    sr=sample_rate).T,axis=0)\n",
    "        \n",
    "    \n",
    "    # We add also the classes of each file as a label at the end\n",
    "    label = files.label\n",
    "\n",
    "    return mfccs, chroma, mel, contrast, tonnetz, label"
   ]
  },
  {
   "cell_type": "code",
   "execution_count": 98,
   "metadata": {},
   "outputs": [],
   "source": [
    "# Extracting the features of our new test data\n",
    "features_label_test_new = test_new.apply(extract_features, axis=1)"
   ]
  },
  {
   "cell_type": "code",
   "execution_count": 99,
   "metadata": {},
   "outputs": [],
   "source": [
    "os.system('say -v Samantha done');"
   ]
  },
  {
   "cell_type": "code",
   "execution_count": 100,
   "metadata": {},
   "outputs": [],
   "source": [
    "# We create an empty list where we will concatenate all the features into one long feature\n",
    "# for each file to feed into our neural network \n",
    "# Note that we are not using the label at all even though we kept it in the dataframe\n",
    "# for comparisson and accuracy verification\n",
    "\n",
    "features_new_test = []\n",
    "for i in range(0, len(features_label_test_new)):\n",
    "    features_new_test.append(np.concatenate((features_label_test_new[i][0], features_label_test_new[i][1], \n",
    "                features_label_test_new[i][2], features_label_test_new[i][3],\n",
    "                features_label_test_new[i][4]), axis=0))"
   ]
  },
  {
   "cell_type": "code",
   "execution_count": 101,
   "metadata": {},
   "outputs": [],
   "source": [
    "X_new_test = np.array(features_new_test)"
   ]
  },
  {
   "cell_type": "code",
   "execution_count": 102,
   "metadata": {},
   "outputs": [],
   "source": [
    "X_new_test = ss.transform(X_new_test)"
   ]
  },
  {
   "cell_type": "code",
   "execution_count": 103,
   "metadata": {},
   "outputs": [],
   "source": [
    "preds_new_test = model.predict_classes(X_new_test)"
   ]
  },
  {
   "cell_type": "code",
   "execution_count": 104,
   "metadata": {},
   "outputs": [],
   "source": [
    "test_new['preds'] = preds_new_test"
   ]
  },
  {
   "cell_type": "code",
   "execution_count": 105,
   "metadata": {},
   "outputs": [
    {
     "data": {
      "text/html": [
       "<div>\n",
       "<style scoped>\n",
       "    .dataframe tbody tr th:only-of-type {\n",
       "        vertical-align: middle;\n",
       "    }\n",
       "\n",
       "    .dataframe tbody tr th {\n",
       "        vertical-align: top;\n",
       "    }\n",
       "\n",
       "    .dataframe thead th {\n",
       "        text-align: right;\n",
       "    }\n",
       "</style>\n",
       "<table border=\"1\" class=\"dataframe\">\n",
       "  <thead>\n",
       "    <tr style=\"text-align: right;\">\n",
       "      <th></th>\n",
       "      <th>file</th>\n",
       "      <th>label</th>\n",
       "      <th>preds</th>\n",
       "    </tr>\n",
       "  </thead>\n",
       "  <tbody>\n",
       "    <tr>\n",
       "      <th>35</th>\n",
       "      <td>4406-16882-0000.flac</td>\n",
       "      <td>1</td>\n",
       "      <td>0</td>\n",
       "    </tr>\n",
       "    <tr>\n",
       "      <th>67</th>\n",
       "      <td>5561-39621-0028.flac</td>\n",
       "      <td>0</td>\n",
       "      <td>1</td>\n",
       "    </tr>\n",
       "    <tr>\n",
       "      <th>76</th>\n",
       "      <td>6531-61334-0037.flac</td>\n",
       "      <td>0</td>\n",
       "      <td>1</td>\n",
       "    </tr>\n",
       "  </tbody>\n",
       "</table>\n",
       "</div>"
      ],
      "text/plain": [
       "                    file  label  preds\n",
       "35  4406-16882-0000.flac      1      0\n",
       "67  5561-39621-0028.flac      0      1\n",
       "76  6531-61334-0037.flac      0      1"
      ]
     },
     "execution_count": 105,
     "metadata": {},
     "output_type": "execute_result"
    }
   ],
   "source": [
    "test_new[test_new['label'] != test_new['preds']]"
   ]
  },
  {
   "cell_type": "code",
   "execution_count": 106,
   "metadata": {},
   "outputs": [
    {
     "data": {
      "text/plain": [
       "0.97"
      ]
     },
     "execution_count": 106,
     "metadata": {},
     "output_type": "execute_result"
    }
   ],
   "source": [
    "1-round(len(test_new[test_new['label'] != test_new['preds']])/len(test_new),2)"
   ]
  },
  {
   "cell_type": "markdown",
   "metadata": {},
   "source": [
    "#### We got 97% accuracy on our new speakers"
   ]
  }
 ],
 "metadata": {
  "kernelspec": {
   "display_name": "Python 3 (ipykernel)",
   "language": "python",
   "name": "python3"
  },
  "language_info": {
   "codemirror_mode": {
    "name": "ipython",
    "version": 3
   },
   "file_extension": ".py",
   "mimetype": "text/x-python",
   "name": "python",
   "nbconvert_exporter": "python",
   "pygments_lexer": "ipython3",
   "version": "3.9.13"
  }
 },
 "nbformat": 4,
 "nbformat_minor": 2
}
